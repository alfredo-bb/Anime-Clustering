{
 "cells": [
  {
   "cell_type": "markdown",
   "metadata": {},
   "source": [
    "<a id = \"toc\"></a>\n",
    "# Índice\n",
    "[Objetivos del notebook](#objetivos)\n",
    "\n",
    "[Importación de las principales librerías](#import_modules)\n",
    "\n",
    "[Importación de los datos](#import_data)\n",
    "\n",
    "[Exploratory Data Analysis (EDA)](#eda)\n",
    "\n",
    "---> [EDA anime df](#df1)\n",
    "\n",
    "---> [EDA ratings df](#df2)\n",
    "\n",
    "[Join final animes con ratings de usuarios](#join)\n",
    "\n",
    "[Reducción de la dimensionalidad con PCA](#pca)\n",
    "\n",
    "[Elbow curve y KMeans](#elbow_curve)\n",
    "\n",
    "[Calculate similarity between users and animes reviews](#colaborative_filtering)\n",
    "\n",
    "[Recomendación \"user based\"](#recomendacion_usuarios)\n",
    "\n",
    "[Recomendación \"product based\"](#recomendacion_animes)\n",
    "\n",
    "[Conclusión](#conclusión)"
   ]
  },
  {
   "cell_type": "markdown",
   "metadata": {},
   "source": [
    "<a id = \"objetivos\"></a>\n",
    "# Objetivos del notebook\n",
    "[Volver al índice](#toc)\n",
    "\n",
    "Una de las áreas del machine learning con la cual intercatuamos casi a diario son los modelos del Collaborative Filtering. En el notebook de hoy, crearemos 2 modelos CF: **uno basando en usuarios (personas similares a ti, han comprado/visto/les ha gustado estas cosas) y otro basado en productos (las personas que han comprado este producto, también han comprado estos).**\n",
    "\n",
    "El dataset que vamos a utilizar es un dataset de Animes japoneses y se puede descargar en el siguiente [enlace](https://www.kaggle.com/CooperUnion/anime-recommendations-database)\n",
    "![Data Model](Anime.jpg)\n",
    "\n",
    "Nuestros principales objetivos serán:\n",
    "1. **Hace una exploración inicial de los dos datasets** y entender la distribución de los datos.\n",
    "\n",
    "\n",
    "\n",
    "2. **Extraer algunas variables útiles como podrían ser: género de los animes** y eliminar usuarios que no han puntuado los animes.\n",
    "\n",
    "\n",
    "\n",
    "3. **Reducir la dimensionalidad de nuestro DataFrame utilizando el PCA**\n",
    "\n",
    "\n",
    "4. **Segmentar nuestros clientes utilizando el dataset reducido**\n",
    "\n",
    "\n",
    "5. **Utilizar la similitud del coseno para hacer recomendaciones a nuestro clientes (user and product based)**"
   ]
  },
  {
   "cell_type": "markdown",
   "metadata": {},
   "source": [
    "<a id = \"import_modules\"></a>\n",
    "# Importación de las principales librerías\n",
    "[Volver al índice](#toc)\n",
    "\n",
    "En esta sección del kernel vamos a cargar las principales librerías que vamos a usar en nuestro notebook."
   ]
  },
  {
   "cell_type": "code",
   "execution_count": 1,
   "metadata": {
    "ExecuteTime": {
     "end_time": "2021-05-26T18:23:43.390615Z",
     "start_time": "2021-05-26T18:23:41.842931Z"
    }
   },
   "outputs": [],
   "source": [
    "# silence warnings\n",
    "import warnings\n",
    "warnings.filterwarnings(\"ignore\")\n",
    "\n",
    "# operating system\n",
    "import os\n",
    "\n",
    "# time calculation to track some processes\n",
    "import time\n",
    "\n",
    "# numeric and matrix operations\n",
    "import numpy as np\n",
    "import pandas as pd\n",
    "\n",
    "# scientific computations library\n",
    "import scipy as sp\n",
    "\n",
    "# loading ploting libraries\n",
    "import matplotlib.pyplot as plt\n",
    "import seaborn as sns\n",
    "plt.style.use('ggplot')\n",
    "%matplotlib inline\n",
    "\n",
    "# import the function to compute cosine_similarity\n",
    "from sklearn.metrics.pairwise import cosine_similarity\n",
    "from sklearn.decomposition import PCA\n",
    "from sklearn.cluster import KMeans\n",
    "from sklearn.impute import SimpleImputer\n",
    "\n",
    "PATH_FOLDER = os.path.join(os.getcwd(), \"anime_datasets\")"
   ]
  },
  {
   "cell_type": "markdown",
   "metadata": {},
   "source": [
    "<a id = \"import_data\"></a>\n",
    "# Importación de los datos\n",
    "[Volver al índice](#toc)\n",
    "\n",
    "En la presente sección del kernel vamos a cargar los principales datasets que vamos a usar para construir nuestro recomendador."
   ]
  },
  {
   "cell_type": "code",
   "execution_count": 2,
   "metadata": {
    "ExecuteTime": {
     "end_time": "2021-05-26T18:23:53.559545Z",
     "start_time": "2021-05-26T18:23:53.511834Z"
    }
   },
   "outputs": [],
   "source": [
    "PATH_ANIME = os.path.join(PATH_FOLDER, 'anime.csv')\n",
    "\n",
    "anime_df = pd.read_csv(PATH_ANIME)"
   ]
  },
  {
   "cell_type": "code",
   "execution_count": 3,
   "metadata": {
    "ExecuteTime": {
     "end_time": "2021-05-26T18:23:57.140607Z",
     "start_time": "2021-05-26T18:23:55.774397Z"
    }
   },
   "outputs": [],
   "source": [
    "PATH_RATING = os.path.join(PATH_FOLDER, 'rating.csv')\n",
    "\n",
    "rating_df = pd.read_csv(PATH_RATING)"
   ]
  },
  {
   "cell_type": "code",
   "execution_count": 4,
   "metadata": {
    "ExecuteTime": {
     "end_time": "2021-05-26T18:23:58.758120Z",
     "start_time": "2021-05-26T18:23:58.749411Z"
    }
   },
   "outputs": [],
   "source": [
    "VALUE_TO_IMPUTE = -1"
   ]
  },
  {
   "cell_type": "markdown",
   "metadata": {},
   "source": [
    "<a id = \"eda\"></a>\n",
    "# Exploratory Data Analysis (EDA)\n",
    "[Volver al índice](#toc)\n",
    "\n",
    "En la sección del EDA haremos **una primera aproximación a nuestros datos** para ver su composición y que variables tenemos a nuestra disposición."
   ]
  },
  {
   "cell_type": "markdown",
   "metadata": {},
   "source": [
    "<a id = \"df1\"></a>\n",
    "# EDA anime df\n",
    "[Volver al índice](#toc)\n",
    "\n",
    "EDA rápido sobre el **dataset de anime.**"
   ]
  },
  {
   "cell_type": "code",
   "execution_count": 5,
   "metadata": {
    "ExecuteTime": {
     "end_time": "2021-05-26T18:24:02.573015Z",
     "start_time": "2021-05-26T18:24:02.554326Z"
    }
   },
   "outputs": [],
   "source": [
    "def report_df(df, verbose = True):\n",
    "    '''\n",
    "    Hace un report simple sobre el DataFrame suministrado.\n",
    "    '''\n",
    "    print(df.info(verbose = verbose))\n",
    "    total_nulos = df.isnull().sum().sum()\n",
    "    print()\n",
    "    print(f\"Tenemos un total de {total_nulos} nulos\")"
   ]
  },
  {
   "cell_type": "code",
   "execution_count": 6,
   "metadata": {
    "ExecuteTime": {
     "end_time": "2021-05-26T18:24:06.169811Z",
     "start_time": "2021-05-26T18:24:06.127019Z"
    }
   },
   "outputs": [
    {
     "name": "stdout",
     "output_type": "stream",
     "text": [
      "<class 'pandas.core.frame.DataFrame'>\n",
      "RangeIndex: 12294 entries, 0 to 12293\n",
      "Data columns (total 7 columns):\n",
      " #   Column    Non-Null Count  Dtype  \n",
      "---  ------    --------------  -----  \n",
      " 0   anime_id  12294 non-null  int64  \n",
      " 1   name      12294 non-null  object \n",
      " 2   genre     12232 non-null  object \n",
      " 3   type      12269 non-null  object \n",
      " 4   episodes  12294 non-null  object \n",
      " 5   rating    12064 non-null  float64\n",
      " 6   members   12294 non-null  int64  \n",
      "dtypes: float64(1), int64(2), object(4)\n",
      "memory usage: 672.5+ KB\n",
      "None\n",
      "\n",
      "Tenemos un total de 317 nulos\n"
     ]
    },
    {
     "data": {
      "text/html": [
       "<div>\n",
       "<style scoped>\n",
       "    .dataframe tbody tr th:only-of-type {\n",
       "        vertical-align: middle;\n",
       "    }\n",
       "\n",
       "    .dataframe tbody tr th {\n",
       "        vertical-align: top;\n",
       "    }\n",
       "\n",
       "    .dataframe thead th {\n",
       "        text-align: right;\n",
       "    }\n",
       "</style>\n",
       "<table border=\"1\" class=\"dataframe\">\n",
       "  <thead>\n",
       "    <tr style=\"text-align: right;\">\n",
       "      <th></th>\n",
       "      <th>anime_id</th>\n",
       "      <th>name</th>\n",
       "      <th>genre</th>\n",
       "      <th>type</th>\n",
       "      <th>episodes</th>\n",
       "      <th>rating</th>\n",
       "      <th>members</th>\n",
       "    </tr>\n",
       "  </thead>\n",
       "  <tbody>\n",
       "    <tr>\n",
       "      <th>0</th>\n",
       "      <td>32281</td>\n",
       "      <td>Kimi no Na wa.</td>\n",
       "      <td>Drama, Romance, School, Supernatural</td>\n",
       "      <td>Movie</td>\n",
       "      <td>1</td>\n",
       "      <td>9.37</td>\n",
       "      <td>200630</td>\n",
       "    </tr>\n",
       "    <tr>\n",
       "      <th>1</th>\n",
       "      <td>5114</td>\n",
       "      <td>Fullmetal Alchemist: Brotherhood</td>\n",
       "      <td>Action, Adventure, Drama, Fantasy, Magic, Mili...</td>\n",
       "      <td>TV</td>\n",
       "      <td>64</td>\n",
       "      <td>9.26</td>\n",
       "      <td>793665</td>\n",
       "    </tr>\n",
       "    <tr>\n",
       "      <th>2</th>\n",
       "      <td>28977</td>\n",
       "      <td>Gintama°</td>\n",
       "      <td>Action, Comedy, Historical, Parody, Samurai, S...</td>\n",
       "      <td>TV</td>\n",
       "      <td>51</td>\n",
       "      <td>9.25</td>\n",
       "      <td>114262</td>\n",
       "    </tr>\n",
       "    <tr>\n",
       "      <th>3</th>\n",
       "      <td>9253</td>\n",
       "      <td>Steins;Gate</td>\n",
       "      <td>Sci-Fi, Thriller</td>\n",
       "      <td>TV</td>\n",
       "      <td>24</td>\n",
       "      <td>9.17</td>\n",
       "      <td>673572</td>\n",
       "    </tr>\n",
       "    <tr>\n",
       "      <th>4</th>\n",
       "      <td>9969</td>\n",
       "      <td>Gintama&amp;#039;</td>\n",
       "      <td>Action, Comedy, Historical, Parody, Samurai, S...</td>\n",
       "      <td>TV</td>\n",
       "      <td>51</td>\n",
       "      <td>9.16</td>\n",
       "      <td>151266</td>\n",
       "    </tr>\n",
       "  </tbody>\n",
       "</table>\n",
       "</div>"
      ],
      "text/plain": [
       "   anime_id                              name  \\\n",
       "0     32281                    Kimi no Na wa.   \n",
       "1      5114  Fullmetal Alchemist: Brotherhood   \n",
       "2     28977                          Gintama°   \n",
       "3      9253                       Steins;Gate   \n",
       "4      9969                     Gintama&#039;   \n",
       "\n",
       "                                               genre   type episodes  rating  \\\n",
       "0               Drama, Romance, School, Supernatural  Movie        1    9.37   \n",
       "1  Action, Adventure, Drama, Fantasy, Magic, Mili...     TV       64    9.26   \n",
       "2  Action, Comedy, Historical, Parody, Samurai, S...     TV       51    9.25   \n",
       "3                                   Sci-Fi, Thriller     TV       24    9.17   \n",
       "4  Action, Comedy, Historical, Parody, Samurai, S...     TV       51    9.16   \n",
       "\n",
       "   members  \n",
       "0   200630  \n",
       "1   793665  \n",
       "2   114262  \n",
       "3   673572  \n",
       "4   151266  "
      ]
     },
     "execution_count": 6,
     "metadata": {},
     "output_type": "execute_result"
    }
   ],
   "source": [
    "report_df(anime_df)\n",
    "\n",
    "anime_df.head()"
   ]
  },
  {
   "cell_type": "markdown",
   "metadata": {},
   "source": [
    "Observamos que tenemos algunos nulos y tendremos que lidiar con ellos."
   ]
  },
  {
   "cell_type": "code",
   "execution_count": 7,
   "metadata": {
    "ExecuteTime": {
     "end_time": "2021-05-26T18:24:52.503749Z",
     "start_time": "2021-05-26T18:24:52.490676Z"
    }
   },
   "outputs": [
    {
     "data": {
      "text/plain": [
       "anime_id      0\n",
       "name          0\n",
       "genre        62\n",
       "type         25\n",
       "episodes      0\n",
       "rating      230\n",
       "members       0\n",
       "dtype: int64"
      ]
     },
     "execution_count": 7,
     "metadata": {},
     "output_type": "execute_result"
    }
   ],
   "source": [
    "anime_df.isnull().sum()"
   ]
  },
  {
   "cell_type": "markdown",
   "metadata": {},
   "source": [
    "No tenemos anime_id duplicados, como era de esperar."
   ]
  },
  {
   "cell_type": "code",
   "execution_count": 8,
   "metadata": {
    "ExecuteTime": {
     "end_time": "2021-05-26T18:24:58.239688Z",
     "start_time": "2021-05-26T18:24:58.207937Z"
    }
   },
   "outputs": [
    {
     "data": {
      "text/plain": [
       "0"
      ]
     },
     "execution_count": 8,
     "metadata": {},
     "output_type": "execute_result"
    }
   ],
   "source": [
    "sum(anime_df[\"anime_id\"].value_counts() > 1)"
   ]
  },
  {
   "cell_type": "markdown",
   "metadata": {},
   "source": [
    "Por tipología de animes, vemos que el más popular es el de TV."
   ]
  },
  {
   "cell_type": "code",
   "execution_count": 9,
   "metadata": {
    "ExecuteTime": {
     "end_time": "2021-05-26T18:25:05.131968Z",
     "start_time": "2021-05-26T18:25:04.923069Z"
    }
   },
   "outputs": [
    {
     "data": {
      "image/png": "[encoded data removed]",
      "text/plain": [
       "<Figure size 432x288 with 1 Axes>"
      ]
     },
     "metadata": {
      "needs_background": "light"
     },
     "output_type": "display_data"
    }
   ],
   "source": [
    "anime_df[\"type\"].value_counts().plot(kind = \"bar\", title = \"Animes by type\");"
   ]
  },
  {
   "cell_type": "markdown",
   "metadata": {},
   "source": [
    "En nuestro report_df hemos visto que **episodes** parecía que era númerico, pero podría contener otro tipos de datos (por ser object), convertimos a número esta columna."
   ]
  },
  {
   "cell_type": "code",
   "execution_count": 10,
   "metadata": {
    "ExecuteTime": {
     "end_time": "2021-05-26T18:25:11.144139Z",
     "start_time": "2021-05-26T18:25:11.077750Z"
    }
   },
   "outputs": [],
   "source": [
    "anime_df[\"episodes\"] = pd.to_numeric(anime_df[\"episodes\"], errors = \"coerce\")\n",
    "anime_df[\"episodes\"].fillna(1, inplace = True)"
   ]
  },
  {
   "cell_type": "code",
   "execution_count": 11,
   "metadata": {
    "ExecuteTime": {
     "end_time": "2021-05-26T18:25:15.764005Z",
     "start_time": "2021-05-26T18:25:15.698005Z"
    }
   },
   "outputs": [
    {
     "data": {
      "text/plain": [
       "anime_id      34527\n",
       "name              ◯\n",
       "episodes       1818\n",
       "rating           10\n",
       "members     1013917\n",
       "dtype: object"
      ]
     },
     "execution_count": 11,
     "metadata": {},
     "output_type": "execute_result"
    }
   ],
   "source": [
    "anime_df.max()"
   ]
  },
  {
   "cell_type": "markdown",
   "metadata": {},
   "source": [
    "En la siguiente sección vamos a analizar la distribución de los animes en función del número de episodios que tenían."
   ]
  },
  {
   "cell_type": "code",
   "execution_count": 12,
   "metadata": {
    "ExecuteTime": {
     "end_time": "2021-05-26T18:25:37.131850Z",
     "start_time": "2021-05-26T18:25:37.068999Z"
    }
   },
   "outputs": [],
   "source": [
    "count_per_episodes = anime_df[\"episodes\"].value_counts().to_frame().reset_index()\n",
    "count_per_episodes.columns = [\"nr_episodes\", \"nr_films\"]"
   ]
  },
  {
   "cell_type": "code",
   "execution_count": 13,
   "metadata": {
    "ExecuteTime": {
     "end_time": "2021-05-26T18:25:38.902925Z",
     "start_time": "2021-05-26T18:25:38.884132Z"
    }
   },
   "outputs": [],
   "source": [
    "count_per_episodes.sort_values(\"nr_episodes\", ascending = True, inplace = True)\n",
    "count_per_episodes[\"pct_over_total\"] = count_per_episodes[\"nr_films\"]/count_per_episodes[\"nr_films\"].sum()"
   ]
  },
  {
   "cell_type": "code",
   "execution_count": 14,
   "metadata": {
    "ExecuteTime": {
     "end_time": "2021-05-26T18:25:42.114736Z",
     "start_time": "2021-05-26T18:25:42.099847Z"
    }
   },
   "outputs": [
    {
     "data": {
      "text/html": [
       "<div>\n",
       "<style scoped>\n",
       "    .dataframe tbody tr th:only-of-type {\n",
       "        vertical-align: middle;\n",
       "    }\n",
       "\n",
       "    .dataframe tbody tr th {\n",
       "        vertical-align: top;\n",
       "    }\n",
       "\n",
       "    .dataframe thead th {\n",
       "        text-align: right;\n",
       "    }\n",
       "</style>\n",
       "<table border=\"1\" class=\"dataframe\">\n",
       "  <thead>\n",
       "    <tr style=\"text-align: right;\">\n",
       "      <th></th>\n",
       "      <th>nr_episodes</th>\n",
       "      <th>nr_films</th>\n",
       "      <th>pct_over_total</th>\n",
       "    </tr>\n",
       "  </thead>\n",
       "  <tbody>\n",
       "    <tr>\n",
       "      <th>0</th>\n",
       "      <td>1.0</td>\n",
       "      <td>6017</td>\n",
       "      <td>0.489426</td>\n",
       "    </tr>\n",
       "    <tr>\n",
       "      <th>1</th>\n",
       "      <td>2.0</td>\n",
       "      <td>1076</td>\n",
       "      <td>0.087522</td>\n",
       "    </tr>\n",
       "    <tr>\n",
       "      <th>5</th>\n",
       "      <td>3.0</td>\n",
       "      <td>505</td>\n",
       "      <td>0.041077</td>\n",
       "    </tr>\n",
       "    <tr>\n",
       "      <th>6</th>\n",
       "      <td>4.0</td>\n",
       "      <td>327</td>\n",
       "      <td>0.026598</td>\n",
       "    </tr>\n",
       "    <tr>\n",
       "      <th>11</th>\n",
       "      <td>5.0</td>\n",
       "      <td>121</td>\n",
       "      <td>0.009842</td>\n",
       "    </tr>\n",
       "  </tbody>\n",
       "</table>\n",
       "</div>"
      ],
      "text/plain": [
       "    nr_episodes  nr_films  pct_over_total\n",
       "0           1.0      6017        0.489426\n",
       "1           2.0      1076        0.087522\n",
       "5           3.0       505        0.041077\n",
       "6           4.0       327        0.026598\n",
       "11          5.0       121        0.009842"
      ]
     },
     "execution_count": 14,
     "metadata": {},
     "output_type": "execute_result"
    }
   ],
   "source": [
    "count_per_episodes.head()"
   ]
  },
  {
   "cell_type": "markdown",
   "metadata": {},
   "source": [
    "Casi la mitad de los animes es de un único episodio (48.94%)."
   ]
  },
  {
   "cell_type": "code",
   "execution_count": 15,
   "metadata": {
    "ExecuteTime": {
     "end_time": "2021-05-26T18:27:10.771260Z",
     "start_time": "2021-05-26T18:27:10.091134Z"
    }
   },
   "outputs": [
    {
     "data": {
      "image/png": "[encoded data removed]",
      "text/plain": [
       "<Figure size 1080x360 with 1 Axes>"
      ]
     },
     "metadata": {
      "needs_background": "light"
     },
     "output_type": "display_data"
    }
   ],
   "source": [
    "NR = 30\n",
    "\n",
    "# instanciate the figure\n",
    "fig = plt.figure(figsize = (15, 5))\n",
    "ax = fig.add_subplot(111)\n",
    "\n",
    "# separete the data\n",
    "x = count_per_episodes[\"nr_episodes\"].values[:NR]\n",
    "y = count_per_episodes[\"nr_films\"].values[:NR]\n",
    "y_pct = count_per_episodes[\"pct_over_total\"].values[:NR]\n",
    "\n",
    "# plot the data\n",
    "barplot = ax.bar(x, y)\n",
    "\n",
    "# add text to each column\n",
    "for rect, y_pct_ in zip(barplot, y_pct):\n",
    "    y_pct_ = round(y_pct_*100, 2)\n",
    "    height = rect.get_height()\n",
    "    plt.text(rect.get_x() + rect.get_width()/2.0, height, f\"{height}:{y_pct_}%\", ha = 'center', va = \"bottom\", rotation = 60)\n",
    "\n",
    "# change the xticks\n",
    "ax.set_xticks(np.arange(0, NR + 1))\n",
    "\n",
    "# add title\n",
    "total_y_pct = round(sum(y_pct)*100, 2)\n",
    "ax.set_title(f\"Distribución de los primeros {NR} animes ({total_y_pct}% del total)\");"
   ]
  },
  {
   "cell_type": "markdown",
   "metadata": {},
   "source": [
    "Vamos a realizar un análisis similar al anterior, pero ahora veremos como se distribuyen los animes en función de la puntuación media.\n",
    "\n",
    "Para tener sólo 10 grupos, primero vamos a redondear la puntuación media."
   ]
  },
  {
   "cell_type": "code",
   "execution_count": 16,
   "metadata": {
    "ExecuteTime": {
     "end_time": "2021-05-26T18:27:31.201391Z",
     "start_time": "2021-05-26T18:27:31.048925Z"
    }
   },
   "outputs": [],
   "source": [
    "anime_df[\"rating\"].fillna(np.mean(anime_df[\"rating\"]), inplace = True)\n",
    "anime_df[\"ceil_rating\"] = anime_df[\"rating\"].apply(lambda rating: np.round(rating, 0))"
   ]
  },
  {
   "cell_type": "code",
   "execution_count": 17,
   "metadata": {
    "ExecuteTime": {
     "end_time": "2021-05-26T18:27:33.595401Z",
     "start_time": "2021-05-26T18:27:33.540322Z"
    }
   },
   "outputs": [
    {
     "data": {
      "text/plain": [
       "ceil_rating  rating\n",
       "2.0          1.67      1\n",
       "             1.92      1\n",
       "             2.00      1\n",
       "             2.14      1\n",
       "             2.37      1\n",
       "                      ..\n",
       "9.0          9.33      1\n",
       "             9.37      1\n",
       "10.0         9.50      1\n",
       "             9.60      1\n",
       "             10.00     1\n",
       "Length: 599, dtype: int64"
      ]
     },
     "execution_count": 17,
     "metadata": {},
     "output_type": "execute_result"
    }
   ],
   "source": [
    "anime_df[[\"ceil_rating\",\"rating\"]].groupby([\"ceil_rating\",\"rating\"]).size()"
   ]
  },
  {
   "cell_type": "markdown",
   "metadata": {},
   "source": [
    "La puntuación más común es un 7 y se encuentra en 4.579 animes (37.25% del total)."
   ]
  },
  {
   "cell_type": "code",
   "execution_count": 18,
   "metadata": {
    "ExecuteTime": {
     "end_time": "2021-05-26T18:27:46.005155Z",
     "start_time": "2021-05-26T18:27:45.751135Z"
    }
   },
   "outputs": [
    {
     "data": {
      "text/plain": [
       "Text(0.5, 1.0, 'Distribución del número de animes por rating')"
      ]
     },
     "execution_count": 18,
     "metadata": {},
     "output_type": "execute_result"
    },
    {
     "data": {
      "image/png": "[encoded data removed]",
      "text/plain": [
       "<Figure size 1080x360 with 1 Axes>"
      ]
     },
     "metadata": {
      "needs_background": "light"
     },
     "output_type": "display_data"
    }
   ],
   "source": [
    "count_per_rating = anime_df[\"ceil_rating\"].value_counts().to_frame()\\\n",
    ".reset_index().sort_values(\"index\", ascending = True)\n",
    "\n",
    "# instanciate the figure\n",
    "fig = plt.figure(figsize = (15, 5))\n",
    "ax = fig.add_subplot(111)\n",
    "\n",
    "# separete the data\n",
    "x = count_per_rating[\"index\"].values\n",
    "y = count_per_rating[\"ceil_rating\"].values\n",
    "y_pct = y/sum(y)\n",
    "\n",
    "# plot the data\n",
    "barplot = ax.bar(x, y)\n",
    "\n",
    "# add text to each column\n",
    "for rect, y_pct_ in zip(barplot, y_pct):\n",
    "    y_pct_ = round(y_pct_*100, 2)\n",
    "    height = rect.get_height()\n",
    "    plt.text(rect.get_x() + rect.get_width()/2.0, height, f\"{height} - {y_pct_}%\", ha = 'center', va = \"bottom\")\n",
    "    \n",
    "ax.set_xticks(np.arange(0, 11))\n",
    "ax.set_title(\"Distribución del número de animes por rating\")"
   ]
  },
  {
   "cell_type": "markdown",
   "metadata": {},
   "source": [
    "En esta sección a extraer los géneros de cada anime y lo convertiremos en columnas, que podremos añadir al dataset inicial."
   ]
  },
  {
   "cell_type": "code",
   "execution_count": 19,
   "metadata": {
    "ExecuteTime": {
     "end_time": "2021-05-26T18:28:20.103966Z",
     "start_time": "2021-05-26T18:28:20.048192Z"
    }
   },
   "outputs": [],
   "source": [
    "anime_df[\"genre\"].fillna(\"Unknown\", inplace = True)"
   ]
  },
  {
   "cell_type": "code",
   "execution_count": 20,
   "metadata": {
    "ExecuteTime": {
     "end_time": "2021-05-26T18:28:23.407917Z",
     "start_time": "2021-05-26T18:28:23.339021Z"
    }
   },
   "outputs": [],
   "source": [
    "ll = anime_df[\"genre\"].str.split(\",\").to_list()"
   ]
  },
  {
   "cell_type": "code",
   "execution_count": 21,
   "metadata": {
    "ExecuteTime": {
     "end_time": "2021-05-26T18:28:24.544909Z",
     "start_time": "2021-05-26T18:28:24.523531Z"
    }
   },
   "outputs": [
    {
     "data": {
      "text/html": [
       "<div>\n",
       "<style scoped>\n",
       "    .dataframe tbody tr th:only-of-type {\n",
       "        vertical-align: middle;\n",
       "    }\n",
       "\n",
       "    .dataframe tbody tr th {\n",
       "        vertical-align: top;\n",
       "    }\n",
       "\n",
       "    .dataframe thead th {\n",
       "        text-align: right;\n",
       "    }\n",
       "</style>\n",
       "<table border=\"1\" class=\"dataframe\">\n",
       "  <thead>\n",
       "    <tr style=\"text-align: right;\">\n",
       "      <th></th>\n",
       "      <th>anime_id</th>\n",
       "      <th>name</th>\n",
       "      <th>genre</th>\n",
       "      <th>type</th>\n",
       "      <th>episodes</th>\n",
       "      <th>rating</th>\n",
       "      <th>members</th>\n",
       "      <th>ceil_rating</th>\n",
       "    </tr>\n",
       "  </thead>\n",
       "  <tbody>\n",
       "    <tr>\n",
       "      <th>0</th>\n",
       "      <td>32281</td>\n",
       "      <td>Kimi no Na wa.</td>\n",
       "      <td>Drama, Romance, School, Supernatural</td>\n",
       "      <td>Movie</td>\n",
       "      <td>1.0</td>\n",
       "      <td>9.37</td>\n",
       "      <td>200630</td>\n",
       "      <td>9.0</td>\n",
       "    </tr>\n",
       "    <tr>\n",
       "      <th>1</th>\n",
       "      <td>5114</td>\n",
       "      <td>Fullmetal Alchemist: Brotherhood</td>\n",
       "      <td>Action, Adventure, Drama, Fantasy, Magic, Mili...</td>\n",
       "      <td>TV</td>\n",
       "      <td>64.0</td>\n",
       "      <td>9.26</td>\n",
       "      <td>793665</td>\n",
       "      <td>9.0</td>\n",
       "    </tr>\n",
       "    <tr>\n",
       "      <th>2</th>\n",
       "      <td>28977</td>\n",
       "      <td>Gintama°</td>\n",
       "      <td>Action, Comedy, Historical, Parody, Samurai, S...</td>\n",
       "      <td>TV</td>\n",
       "      <td>51.0</td>\n",
       "      <td>9.25</td>\n",
       "      <td>114262</td>\n",
       "      <td>9.0</td>\n",
       "    </tr>\n",
       "    <tr>\n",
       "      <th>3</th>\n",
       "      <td>9253</td>\n",
       "      <td>Steins;Gate</td>\n",
       "      <td>Sci-Fi, Thriller</td>\n",
       "      <td>TV</td>\n",
       "      <td>24.0</td>\n",
       "      <td>9.17</td>\n",
       "      <td>673572</td>\n",
       "      <td>9.0</td>\n",
       "    </tr>\n",
       "    <tr>\n",
       "      <th>4</th>\n",
       "      <td>9969</td>\n",
       "      <td>Gintama&amp;#039;</td>\n",
       "      <td>Action, Comedy, Historical, Parody, Samurai, S...</td>\n",
       "      <td>TV</td>\n",
       "      <td>51.0</td>\n",
       "      <td>9.16</td>\n",
       "      <td>151266</td>\n",
       "      <td>9.0</td>\n",
       "    </tr>\n",
       "  </tbody>\n",
       "</table>\n",
       "</div>"
      ],
      "text/plain": [
       "   anime_id                              name  \\\n",
       "0     32281                    Kimi no Na wa.   \n",
       "1      5114  Fullmetal Alchemist: Brotherhood   \n",
       "2     28977                          Gintama°   \n",
       "3      9253                       Steins;Gate   \n",
       "4      9969                     Gintama&#039;   \n",
       "\n",
       "                                               genre   type  episodes  rating  \\\n",
       "0               Drama, Romance, School, Supernatural  Movie       1.0    9.37   \n",
       "1  Action, Adventure, Drama, Fantasy, Magic, Mili...     TV      64.0    9.26   \n",
       "2  Action, Comedy, Historical, Parody, Samurai, S...     TV      51.0    9.25   \n",
       "3                                   Sci-Fi, Thriller     TV      24.0    9.17   \n",
       "4  Action, Comedy, Historical, Parody, Samurai, S...     TV      51.0    9.16   \n",
       "\n",
       "   members  ceil_rating  \n",
       "0   200630          9.0  \n",
       "1   793665          9.0  \n",
       "2   114262          9.0  \n",
       "3   673572          9.0  \n",
       "4   151266          9.0  "
      ]
     },
     "execution_count": 21,
     "metadata": {},
     "output_type": "execute_result"
    }
   ],
   "source": [
    "anime_df.head()"
   ]
  },
  {
   "cell_type": "code",
   "execution_count": 23,
   "metadata": {
    "ExecuteTime": {
     "end_time": "2021-05-26T18:28:39.216654Z",
     "start_time": "2021-05-26T18:28:39.184507Z"
    }
   },
   "outputs": [],
   "source": [
    "ll_with_id = []\n",
    "\n",
    "for ids, lists in zip(list(anime_df[\"anime_id\"].values), ll):\n",
    "    list_ = [ids]\n",
    "    for values in lists:\n",
    "        list_.append(values)\n",
    "    ll_with_id.append(list_)"
   ]
  },
  {
   "cell_type": "code",
   "execution_count": 24,
   "metadata": {
    "ExecuteTime": {
     "end_time": "2021-05-26T18:34:11.790108Z",
     "start_time": "2021-05-26T18:34:11.716159Z"
    }
   },
   "outputs": [],
   "source": [
    "anime_by_genre = pd.DataFrame(ll_with_id)"
   ]
  },
  {
   "cell_type": "code",
   "execution_count": 25,
   "metadata": {
    "ExecuteTime": {
     "end_time": "2021-05-26T18:34:15.152121Z",
     "start_time": "2021-05-26T18:34:15.087544Z"
    }
   },
   "outputs": [
    {
     "data": {
      "text/html": [
       "<div>\n",
       "<style scoped>\n",
       "    .dataframe tbody tr th:only-of-type {\n",
       "        vertical-align: middle;\n",
       "    }\n",
       "\n",
       "    .dataframe tbody tr th {\n",
       "        vertical-align: top;\n",
       "    }\n",
       "\n",
       "    .dataframe thead th {\n",
       "        text-align: right;\n",
       "    }\n",
       "</style>\n",
       "<table border=\"1\" class=\"dataframe\">\n",
       "  <thead>\n",
       "    <tr style=\"text-align: right;\">\n",
       "      <th></th>\n",
       "      <th>anime_id</th>\n",
       "      <th>variable</th>\n",
       "      <th>value</th>\n",
       "    </tr>\n",
       "  </thead>\n",
       "  <tbody>\n",
       "    <tr>\n",
       "      <th>0</th>\n",
       "      <td>32281</td>\n",
       "      <td>1</td>\n",
       "      <td>Drama</td>\n",
       "    </tr>\n",
       "    <tr>\n",
       "      <th>1</th>\n",
       "      <td>5114</td>\n",
       "      <td>1</td>\n",
       "      <td>Action</td>\n",
       "    </tr>\n",
       "    <tr>\n",
       "      <th>2</th>\n",
       "      <td>28977</td>\n",
       "      <td>1</td>\n",
       "      <td>Action</td>\n",
       "    </tr>\n",
       "    <tr>\n",
       "      <th>3</th>\n",
       "      <td>9253</td>\n",
       "      <td>1</td>\n",
       "      <td>Sci-Fi</td>\n",
       "    </tr>\n",
       "    <tr>\n",
       "      <th>4</th>\n",
       "      <td>9969</td>\n",
       "      <td>1</td>\n",
       "      <td>Action</td>\n",
       "    </tr>\n",
       "  </tbody>\n",
       "</table>\n",
       "</div>"
      ],
      "text/plain": [
       "   anime_id  variable   value\n",
       "0     32281         1   Drama\n",
       "1      5114         1  Action\n",
       "2     28977         1  Action\n",
       "3      9253         1  Sci-Fi\n",
       "4      9969         1  Action"
      ]
     },
     "execution_count": 25,
     "metadata": {},
     "output_type": "execute_result"
    }
   ],
   "source": [
    "anime_by_genre = pd.DataFrame(ll_with_id).melt(id_vars = 0)\n",
    "anime_by_genre[\"value\"].fillna(\"Unknown\", inplace = True)\n",
    "anime_by_genre.rename(columns = {0:\"anime_id\"}, inplace = True)\n",
    "anime_by_genre.head()"
   ]
  },
  {
   "cell_type": "code",
   "execution_count": 26,
   "metadata": {
    "ExecuteTime": {
     "end_time": "2021-05-26T18:34:16.145514Z",
     "start_time": "2021-05-26T18:34:15.700265Z"
    }
   },
   "outputs": [
    {
     "data": {
      "text/html": [
       "<div>\n",
       "<style scoped>\n",
       "    .dataframe tbody tr th:only-of-type {\n",
       "        vertical-align: middle;\n",
       "    }\n",
       "\n",
       "    .dataframe tbody tr th {\n",
       "        vertical-align: top;\n",
       "    }\n",
       "\n",
       "    .dataframe thead tr th {\n",
       "        text-align: left;\n",
       "    }\n",
       "\n",
       "    .dataframe thead tr:last-of-type th {\n",
       "        text-align: right;\n",
       "    }\n",
       "</style>\n",
       "<table border=\"1\" class=\"dataframe\">\n",
       "  <thead>\n",
       "    <tr>\n",
       "      <th></th>\n",
       "      <th colspan=\"21\" halign=\"left\">variable</th>\n",
       "    </tr>\n",
       "    <tr>\n",
       "      <th>value</th>\n",
       "      <th>Adventure</th>\n",
       "      <th>Cars</th>\n",
       "      <th>Comedy</th>\n",
       "      <th>Dementia</th>\n",
       "      <th>Demons</th>\n",
       "      <th>Drama</th>\n",
       "      <th>Ecchi</th>\n",
       "      <th>Fantasy</th>\n",
       "      <th>Game</th>\n",
       "      <th>Harem</th>\n",
       "      <th>...</th>\n",
       "      <th>Shounen</th>\n",
       "      <th>Slice of Life</th>\n",
       "      <th>Space</th>\n",
       "      <th>Sports</th>\n",
       "      <th>Super Power</th>\n",
       "      <th>Supernatural</th>\n",
       "      <th>Thriller</th>\n",
       "      <th>Unknown</th>\n",
       "      <th>Vampire</th>\n",
       "      <th>Yaoi</th>\n",
       "    </tr>\n",
       "    <tr>\n",
       "      <th>anime_id</th>\n",
       "      <th></th>\n",
       "      <th></th>\n",
       "      <th></th>\n",
       "      <th></th>\n",
       "      <th></th>\n",
       "      <th></th>\n",
       "      <th></th>\n",
       "      <th></th>\n",
       "      <th></th>\n",
       "      <th></th>\n",
       "      <th></th>\n",
       "      <th></th>\n",
       "      <th></th>\n",
       "      <th></th>\n",
       "      <th></th>\n",
       "      <th></th>\n",
       "      <th></th>\n",
       "      <th></th>\n",
       "      <th></th>\n",
       "      <th></th>\n",
       "      <th></th>\n",
       "    </tr>\n",
       "  </thead>\n",
       "  <tbody>\n",
       "    <tr>\n",
       "      <th>1</th>\n",
       "      <td>1</td>\n",
       "      <td>0</td>\n",
       "      <td>1</td>\n",
       "      <td>0</td>\n",
       "      <td>0</td>\n",
       "      <td>1</td>\n",
       "      <td>0</td>\n",
       "      <td>0</td>\n",
       "      <td>0</td>\n",
       "      <td>0</td>\n",
       "      <td>...</td>\n",
       "      <td>0</td>\n",
       "      <td>0</td>\n",
       "      <td>0</td>\n",
       "      <td>0</td>\n",
       "      <td>0</td>\n",
       "      <td>0</td>\n",
       "      <td>0</td>\n",
       "      <td>7</td>\n",
       "      <td>0</td>\n",
       "      <td>0</td>\n",
       "    </tr>\n",
       "    <tr>\n",
       "      <th>5</th>\n",
       "      <td>0</td>\n",
       "      <td>0</td>\n",
       "      <td>0</td>\n",
       "      <td>0</td>\n",
       "      <td>0</td>\n",
       "      <td>1</td>\n",
       "      <td>0</td>\n",
       "      <td>0</td>\n",
       "      <td>0</td>\n",
       "      <td>0</td>\n",
       "      <td>...</td>\n",
       "      <td>0</td>\n",
       "      <td>0</td>\n",
       "      <td>0</td>\n",
       "      <td>0</td>\n",
       "      <td>0</td>\n",
       "      <td>0</td>\n",
       "      <td>0</td>\n",
       "      <td>8</td>\n",
       "      <td>0</td>\n",
       "      <td>0</td>\n",
       "    </tr>\n",
       "    <tr>\n",
       "      <th>6</th>\n",
       "      <td>0</td>\n",
       "      <td>0</td>\n",
       "      <td>1</td>\n",
       "      <td>0</td>\n",
       "      <td>0</td>\n",
       "      <td>0</td>\n",
       "      <td>0</td>\n",
       "      <td>0</td>\n",
       "      <td>0</td>\n",
       "      <td>0</td>\n",
       "      <td>...</td>\n",
       "      <td>0</td>\n",
       "      <td>0</td>\n",
       "      <td>0</td>\n",
       "      <td>0</td>\n",
       "      <td>0</td>\n",
       "      <td>0</td>\n",
       "      <td>0</td>\n",
       "      <td>10</td>\n",
       "      <td>0</td>\n",
       "      <td>0</td>\n",
       "    </tr>\n",
       "    <tr>\n",
       "      <th>7</th>\n",
       "      <td>0</td>\n",
       "      <td>0</td>\n",
       "      <td>0</td>\n",
       "      <td>0</td>\n",
       "      <td>0</td>\n",
       "      <td>1</td>\n",
       "      <td>0</td>\n",
       "      <td>0</td>\n",
       "      <td>0</td>\n",
       "      <td>0</td>\n",
       "      <td>...</td>\n",
       "      <td>0</td>\n",
       "      <td>0</td>\n",
       "      <td>0</td>\n",
       "      <td>0</td>\n",
       "      <td>0</td>\n",
       "      <td>0</td>\n",
       "      <td>0</td>\n",
       "      <td>7</td>\n",
       "      <td>0</td>\n",
       "      <td>0</td>\n",
       "    </tr>\n",
       "    <tr>\n",
       "      <th>8</th>\n",
       "      <td>0</td>\n",
       "      <td>0</td>\n",
       "      <td>0</td>\n",
       "      <td>0</td>\n",
       "      <td>0</td>\n",
       "      <td>0</td>\n",
       "      <td>0</td>\n",
       "      <td>1</td>\n",
       "      <td>0</td>\n",
       "      <td>0</td>\n",
       "      <td>...</td>\n",
       "      <td>0</td>\n",
       "      <td>0</td>\n",
       "      <td>0</td>\n",
       "      <td>0</td>\n",
       "      <td>0</td>\n",
       "      <td>0</td>\n",
       "      <td>0</td>\n",
       "      <td>9</td>\n",
       "      <td>0</td>\n",
       "      <td>0</td>\n",
       "    </tr>\n",
       "  </tbody>\n",
       "</table>\n",
       "<p>5 rows × 83 columns</p>\n",
       "</div>"
      ],
      "text/plain": [
       "           variable                                                         \\\n",
       "value     Adventure  Cars  Comedy  Dementia  Demons  Drama  Ecchi  Fantasy   \n",
       "anime_id                                                                     \n",
       "1                 1     0       1         0       0      1      0        0   \n",
       "5                 0     0       0         0       0      1      0        0   \n",
       "6                 0     0       1         0       0      0      0        0   \n",
       "7                 0     0       0         0       0      1      0        0   \n",
       "8                 0     0       0         0       0      0      0        1   \n",
       "\n",
       "                       ...                                                 \\\n",
       "value     Game  Harem  ... Shounen Slice of Life Space Sports Super Power   \n",
       "anime_id               ...                                                  \n",
       "1            0      0  ...       0             0     0      0           0   \n",
       "5            0      0  ...       0             0     0      0           0   \n",
       "6            0      0  ...       0             0     0      0           0   \n",
       "7            0      0  ...       0             0     0      0           0   \n",
       "8            0      0  ...       0             0     0      0           0   \n",
       "\n",
       "                                                     \n",
       "value    Supernatural Thriller Unknown Vampire Yaoi  \n",
       "anime_id                                             \n",
       "1                   0        0       7       0    0  \n",
       "5                   0        0       8       0    0  \n",
       "6                   0        0      10       0    0  \n",
       "7                   0        0       7       0    0  \n",
       "8                   0        0       9       0    0  \n",
       "\n",
       "[5 rows x 83 columns]"
      ]
     },
     "execution_count": 26,
     "metadata": {},
     "output_type": "execute_result"
    }
   ],
   "source": [
    "anime_by_genre = anime_by_genre.pivot_table(index = \"anime_id\", columns = \"value\", aggfunc = len, fill_value = 0)\n",
    "anime_by_genre.head()"
   ]
  },
  {
   "cell_type": "code",
   "execution_count": 27,
   "metadata": {
    "ExecuteTime": {
     "end_time": "2021-05-26T18:34:16.300632Z",
     "start_time": "2021-05-26T18:34:16.287504Z"
    }
   },
   "outputs": [],
   "source": [
    "new_columns = [tupple[1] for tupple in list(anime_by_genre.columns)]\n",
    "new_columns = list(map(lambda text: text[1:] if text[0] == \" \" else text, new_columns))"
   ]
  },
  {
   "cell_type": "code",
   "execution_count": 28,
   "metadata": {
    "ExecuteTime": {
     "end_time": "2021-05-26T18:34:17.589915Z",
     "start_time": "2021-05-26T18:34:17.558682Z"
    }
   },
   "outputs": [
    {
     "data": {
      "text/html": [
       "<div>\n",
       "<style scoped>\n",
       "    .dataframe tbody tr th:only-of-type {\n",
       "        vertical-align: middle;\n",
       "    }\n",
       "\n",
       "    .dataframe tbody tr th {\n",
       "        vertical-align: top;\n",
       "    }\n",
       "\n",
       "    .dataframe thead th {\n",
       "        text-align: right;\n",
       "    }\n",
       "</style>\n",
       "<table border=\"1\" class=\"dataframe\">\n",
       "  <thead>\n",
       "    <tr style=\"text-align: right;\">\n",
       "      <th></th>\n",
       "      <th>anime_id</th>\n",
       "      <th>Adventure</th>\n",
       "      <th>Cars</th>\n",
       "      <th>Comedy</th>\n",
       "      <th>Dementia</th>\n",
       "      <th>Demons</th>\n",
       "      <th>Drama</th>\n",
       "      <th>Ecchi</th>\n",
       "      <th>Fantasy</th>\n",
       "      <th>Game</th>\n",
       "      <th>...</th>\n",
       "      <th>Shounen</th>\n",
       "      <th>Slice of Life</th>\n",
       "      <th>Space</th>\n",
       "      <th>Sports</th>\n",
       "      <th>Super Power</th>\n",
       "      <th>Supernatural</th>\n",
       "      <th>Thriller</th>\n",
       "      <th>Unknown</th>\n",
       "      <th>Vampire</th>\n",
       "      <th>Yaoi</th>\n",
       "    </tr>\n",
       "  </thead>\n",
       "  <tbody>\n",
       "    <tr>\n",
       "      <th>0</th>\n",
       "      <td>1</td>\n",
       "      <td>1</td>\n",
       "      <td>0</td>\n",
       "      <td>1</td>\n",
       "      <td>0</td>\n",
       "      <td>0</td>\n",
       "      <td>1</td>\n",
       "      <td>0</td>\n",
       "      <td>0</td>\n",
       "      <td>0</td>\n",
       "      <td>...</td>\n",
       "      <td>0</td>\n",
       "      <td>0</td>\n",
       "      <td>0</td>\n",
       "      <td>0</td>\n",
       "      <td>0</td>\n",
       "      <td>0</td>\n",
       "      <td>0</td>\n",
       "      <td>7</td>\n",
       "      <td>0</td>\n",
       "      <td>0</td>\n",
       "    </tr>\n",
       "    <tr>\n",
       "      <th>1</th>\n",
       "      <td>5</td>\n",
       "      <td>0</td>\n",
       "      <td>0</td>\n",
       "      <td>0</td>\n",
       "      <td>0</td>\n",
       "      <td>0</td>\n",
       "      <td>1</td>\n",
       "      <td>0</td>\n",
       "      <td>0</td>\n",
       "      <td>0</td>\n",
       "      <td>...</td>\n",
       "      <td>0</td>\n",
       "      <td>0</td>\n",
       "      <td>0</td>\n",
       "      <td>0</td>\n",
       "      <td>0</td>\n",
       "      <td>0</td>\n",
       "      <td>0</td>\n",
       "      <td>8</td>\n",
       "      <td>0</td>\n",
       "      <td>0</td>\n",
       "    </tr>\n",
       "    <tr>\n",
       "      <th>2</th>\n",
       "      <td>6</td>\n",
       "      <td>0</td>\n",
       "      <td>0</td>\n",
       "      <td>1</td>\n",
       "      <td>0</td>\n",
       "      <td>0</td>\n",
       "      <td>0</td>\n",
       "      <td>0</td>\n",
       "      <td>0</td>\n",
       "      <td>0</td>\n",
       "      <td>...</td>\n",
       "      <td>0</td>\n",
       "      <td>0</td>\n",
       "      <td>0</td>\n",
       "      <td>0</td>\n",
       "      <td>0</td>\n",
       "      <td>0</td>\n",
       "      <td>0</td>\n",
       "      <td>10</td>\n",
       "      <td>0</td>\n",
       "      <td>0</td>\n",
       "    </tr>\n",
       "    <tr>\n",
       "      <th>3</th>\n",
       "      <td>7</td>\n",
       "      <td>0</td>\n",
       "      <td>0</td>\n",
       "      <td>0</td>\n",
       "      <td>0</td>\n",
       "      <td>0</td>\n",
       "      <td>1</td>\n",
       "      <td>0</td>\n",
       "      <td>0</td>\n",
       "      <td>0</td>\n",
       "      <td>...</td>\n",
       "      <td>0</td>\n",
       "      <td>0</td>\n",
       "      <td>0</td>\n",
       "      <td>0</td>\n",
       "      <td>0</td>\n",
       "      <td>0</td>\n",
       "      <td>0</td>\n",
       "      <td>7</td>\n",
       "      <td>0</td>\n",
       "      <td>0</td>\n",
       "    </tr>\n",
       "    <tr>\n",
       "      <th>4</th>\n",
       "      <td>8</td>\n",
       "      <td>0</td>\n",
       "      <td>0</td>\n",
       "      <td>0</td>\n",
       "      <td>0</td>\n",
       "      <td>0</td>\n",
       "      <td>0</td>\n",
       "      <td>0</td>\n",
       "      <td>1</td>\n",
       "      <td>0</td>\n",
       "      <td>...</td>\n",
       "      <td>0</td>\n",
       "      <td>0</td>\n",
       "      <td>0</td>\n",
       "      <td>0</td>\n",
       "      <td>0</td>\n",
       "      <td>0</td>\n",
       "      <td>0</td>\n",
       "      <td>9</td>\n",
       "      <td>0</td>\n",
       "      <td>0</td>\n",
       "    </tr>\n",
       "  </tbody>\n",
       "</table>\n",
       "<p>5 rows × 84 columns</p>\n",
       "</div>"
      ],
      "text/plain": [
       "   anime_id  Adventure  Cars  Comedy  Dementia  Demons  Drama  Ecchi  Fantasy  \\\n",
       "0         1          1     0       1         0       0      1      0        0   \n",
       "1         5          0     0       0         0       0      1      0        0   \n",
       "2         6          0     0       1         0       0      0      0        0   \n",
       "3         7          0     0       0         0       0      1      0        0   \n",
       "4         8          0     0       0         0       0      0      0        1   \n",
       "\n",
       "   Game  ...  Shounen  Slice of Life  Space  Sports  Super Power  \\\n",
       "0     0  ...        0              0      0       0            0   \n",
       "1     0  ...        0              0      0       0            0   \n",
       "2     0  ...        0              0      0       0            0   \n",
       "3     0  ...        0              0      0       0            0   \n",
       "4     0  ...        0              0      0       0            0   \n",
       "\n",
       "   Supernatural  Thriller  Unknown  Vampire  Yaoi  \n",
       "0             0         0        7        0     0  \n",
       "1             0         0        8        0     0  \n",
       "2             0         0       10        0     0  \n",
       "3             0         0        7        0     0  \n",
       "4             0         0        9        0     0  \n",
       "\n",
       "[5 rows x 84 columns]"
      ]
     },
     "execution_count": 28,
     "metadata": {},
     "output_type": "execute_result"
    }
   ],
   "source": [
    "anime_by_genre.columns = new_columns\n",
    "anime_by_genre.reset_index(inplace = True)\n",
    "anime_by_genre.head()"
   ]
  },
  {
   "cell_type": "code",
   "execution_count": 29,
   "metadata": {
    "ExecuteTime": {
     "end_time": "2021-05-26T18:34:19.892081Z",
     "start_time": "2021-05-26T18:34:19.882624Z"
    }
   },
   "outputs": [
    {
     "data": {
      "text/plain": [
       "True"
      ]
     },
     "execution_count": 29,
     "metadata": {},
     "output_type": "execute_result"
    }
   ],
   "source": [
    "anime_df.shape[0] == anime_by_genre.shape[0]"
   ]
  },
  {
   "cell_type": "markdown",
   "metadata": {},
   "source": [
    "No vamos a añadir las columnas para tener un dataset más fácil de manejar."
   ]
  },
  {
   "cell_type": "code",
   "execution_count": 30,
   "metadata": {
    "ExecuteTime": {
     "end_time": "2021-05-26T18:34:21.133655Z",
     "start_time": "2021-05-26T18:34:21.127415Z"
    }
   },
   "outputs": [],
   "source": [
    "# anime_df = pd.merge(anime_df, anime_by_genre, how = \"left\", on = [\"anime_id\"])"
   ]
  },
  {
   "cell_type": "code",
   "execution_count": 31,
   "metadata": {
    "ExecuteTime": {
     "end_time": "2021-05-26T18:34:21.807033Z",
     "start_time": "2021-05-26T18:34:21.786490Z"
    }
   },
   "outputs": [
    {
     "data": {
      "text/html": [
       "<div>\n",
       "<style scoped>\n",
       "    .dataframe tbody tr th:only-of-type {\n",
       "        vertical-align: middle;\n",
       "    }\n",
       "\n",
       "    .dataframe tbody tr th {\n",
       "        vertical-align: top;\n",
       "    }\n",
       "\n",
       "    .dataframe thead th {\n",
       "        text-align: right;\n",
       "    }\n",
       "</style>\n",
       "<table border=\"1\" class=\"dataframe\">\n",
       "  <thead>\n",
       "    <tr style=\"text-align: right;\">\n",
       "      <th></th>\n",
       "      <th>anime_id</th>\n",
       "      <th>name</th>\n",
       "      <th>genre</th>\n",
       "      <th>type</th>\n",
       "      <th>episodes</th>\n",
       "      <th>rating</th>\n",
       "      <th>members</th>\n",
       "      <th>ceil_rating</th>\n",
       "    </tr>\n",
       "  </thead>\n",
       "  <tbody>\n",
       "    <tr>\n",
       "      <th>0</th>\n",
       "      <td>32281</td>\n",
       "      <td>Kimi no Na wa.</td>\n",
       "      <td>Drama, Romance, School, Supernatural</td>\n",
       "      <td>Movie</td>\n",
       "      <td>1.0</td>\n",
       "      <td>9.37</td>\n",
       "      <td>200630</td>\n",
       "      <td>9.0</td>\n",
       "    </tr>\n",
       "    <tr>\n",
       "      <th>1</th>\n",
       "      <td>5114</td>\n",
       "      <td>Fullmetal Alchemist: Brotherhood</td>\n",
       "      <td>Action, Adventure, Drama, Fantasy, Magic, Mili...</td>\n",
       "      <td>TV</td>\n",
       "      <td>64.0</td>\n",
       "      <td>9.26</td>\n",
       "      <td>793665</td>\n",
       "      <td>9.0</td>\n",
       "    </tr>\n",
       "    <tr>\n",
       "      <th>2</th>\n",
       "      <td>28977</td>\n",
       "      <td>Gintama°</td>\n",
       "      <td>Action, Comedy, Historical, Parody, Samurai, S...</td>\n",
       "      <td>TV</td>\n",
       "      <td>51.0</td>\n",
       "      <td>9.25</td>\n",
       "      <td>114262</td>\n",
       "      <td>9.0</td>\n",
       "    </tr>\n",
       "    <tr>\n",
       "      <th>3</th>\n",
       "      <td>9253</td>\n",
       "      <td>Steins;Gate</td>\n",
       "      <td>Sci-Fi, Thriller</td>\n",
       "      <td>TV</td>\n",
       "      <td>24.0</td>\n",
       "      <td>9.17</td>\n",
       "      <td>673572</td>\n",
       "      <td>9.0</td>\n",
       "    </tr>\n",
       "    <tr>\n",
       "      <th>4</th>\n",
       "      <td>9969</td>\n",
       "      <td>Gintama&amp;#039;</td>\n",
       "      <td>Action, Comedy, Historical, Parody, Samurai, S...</td>\n",
       "      <td>TV</td>\n",
       "      <td>51.0</td>\n",
       "      <td>9.16</td>\n",
       "      <td>151266</td>\n",
       "      <td>9.0</td>\n",
       "    </tr>\n",
       "  </tbody>\n",
       "</table>\n",
       "</div>"
      ],
      "text/plain": [
       "   anime_id                              name  \\\n",
       "0     32281                    Kimi no Na wa.   \n",
       "1      5114  Fullmetal Alchemist: Brotherhood   \n",
       "2     28977                          Gintama°   \n",
       "3      9253                       Steins;Gate   \n",
       "4      9969                     Gintama&#039;   \n",
       "\n",
       "                                               genre   type  episodes  rating  \\\n",
       "0               Drama, Romance, School, Supernatural  Movie       1.0    9.37   \n",
       "1  Action, Adventure, Drama, Fantasy, Magic, Mili...     TV      64.0    9.26   \n",
       "2  Action, Comedy, Historical, Parody, Samurai, S...     TV      51.0    9.25   \n",
       "3                                   Sci-Fi, Thriller     TV      24.0    9.17   \n",
       "4  Action, Comedy, Historical, Parody, Samurai, S...     TV      51.0    9.16   \n",
       "\n",
       "   members  ceil_rating  \n",
       "0   200630          9.0  \n",
       "1   793665          9.0  \n",
       "2   114262          9.0  \n",
       "3   673572          9.0  \n",
       "4   151266          9.0  "
      ]
     },
     "execution_count": 31,
     "metadata": {},
     "output_type": "execute_result"
    }
   ],
   "source": [
    "anime_df.head()"
   ]
  },
  {
   "cell_type": "markdown",
   "metadata": {},
   "source": [
    "<a id = \"df2\"></a>\n",
    "# EDA ratings df\n",
    "[Volver al índice](#toc)\n",
    "\n",
    "EDA rápido sobre el DataFrame de **ratings de los animes.**"
   ]
  },
  {
   "cell_type": "code",
   "execution_count": 32,
   "metadata": {
    "ExecuteTime": {
     "end_time": "2021-05-26T18:34:26.131327Z",
     "start_time": "2021-05-26T18:34:26.067610Z"
    }
   },
   "outputs": [
    {
     "name": "stdout",
     "output_type": "stream",
     "text": [
      "<class 'pandas.core.frame.DataFrame'>\n",
      "RangeIndex: 7813737 entries, 0 to 7813736\n",
      "Data columns (total 3 columns):\n",
      " #   Column    Dtype\n",
      "---  ------    -----\n",
      " 0   user_id   int64\n",
      " 1   anime_id  int64\n",
      " 2   rating    int64\n",
      "dtypes: int64(3)\n",
      "memory usage: 178.8 MB\n",
      "None\n",
      "\n",
      "Tenemos un total de 0 nulos\n"
     ]
    },
    {
     "data": {
      "text/html": [
       "<div>\n",
       "<style scoped>\n",
       "    .dataframe tbody tr th:only-of-type {\n",
       "        vertical-align: middle;\n",
       "    }\n",
       "\n",
       "    .dataframe tbody tr th {\n",
       "        vertical-align: top;\n",
       "    }\n",
       "\n",
       "    .dataframe thead th {\n",
       "        text-align: right;\n",
       "    }\n",
       "</style>\n",
       "<table border=\"1\" class=\"dataframe\">\n",
       "  <thead>\n",
       "    <tr style=\"text-align: right;\">\n",
       "      <th></th>\n",
       "      <th>user_id</th>\n",
       "      <th>anime_id</th>\n",
       "      <th>rating</th>\n",
       "    </tr>\n",
       "  </thead>\n",
       "  <tbody>\n",
       "    <tr>\n",
       "      <th>0</th>\n",
       "      <td>1</td>\n",
       "      <td>20</td>\n",
       "      <td>-1</td>\n",
       "    </tr>\n",
       "    <tr>\n",
       "      <th>1</th>\n",
       "      <td>1</td>\n",
       "      <td>24</td>\n",
       "      <td>-1</td>\n",
       "    </tr>\n",
       "    <tr>\n",
       "      <th>2</th>\n",
       "      <td>1</td>\n",
       "      <td>79</td>\n",
       "      <td>-1</td>\n",
       "    </tr>\n",
       "    <tr>\n",
       "      <th>3</th>\n",
       "      <td>1</td>\n",
       "      <td>226</td>\n",
       "      <td>-1</td>\n",
       "    </tr>\n",
       "    <tr>\n",
       "      <th>4</th>\n",
       "      <td>1</td>\n",
       "      <td>241</td>\n",
       "      <td>-1</td>\n",
       "    </tr>\n",
       "  </tbody>\n",
       "</table>\n",
       "</div>"
      ],
      "text/plain": [
       "   user_id  anime_id  rating\n",
       "0        1        20      -1\n",
       "1        1        24      -1\n",
       "2        1        79      -1\n",
       "3        1       226      -1\n",
       "4        1       241      -1"
      ]
     },
     "execution_count": 32,
     "metadata": {},
     "output_type": "execute_result"
    }
   ],
   "source": [
    "report_df(rating_df)\n",
    "\n",
    "rating_df.head()"
   ]
  },
  {
   "cell_type": "markdown",
   "metadata": {},
   "source": [
    "Observamos que tenemor **casi un 20% de animes sin reviews.**"
   ]
  },
  {
   "cell_type": "code",
   "execution_count": 33,
   "metadata": {
    "ExecuteTime": {
     "end_time": "2021-05-26T18:34:28.268943Z",
     "start_time": "2021-05-26T18:34:27.949710Z"
    }
   },
   "outputs": [
    {
     "data": {
      "image/png": "[encoded data removed]",
      "text/plain": [
       "<Figure size 1080x360 with 1 Axes>"
      ]
     },
     "metadata": {
      "needs_background": "light"
     },
     "output_type": "display_data"
    }
   ],
   "source": [
    "rating_gb = rating_df[\"rating\"].value_counts().reset_index().sort_values(\"index\", ascending = True)\n",
    "rating_gb.sort_values(\"index\", ascending = True, inplace = True)\n",
    "\n",
    "fig = plt.figure(figsize = (15, 5))\n",
    "ax = fig.add_subplot()\n",
    "\n",
    "x = rating_gb[\"index\"]\n",
    "y = rating_gb[\"rating\"]\n",
    "y_pct = y/sum(y)\n",
    "\n",
    "barplot = ax.bar(x, y)\n",
    "\n",
    "# add text to each column\n",
    "for rect, y_pct_ in zip(barplot, y_pct):\n",
    "    y_pct_ = round(y_pct_*100, 2)\n",
    "    height = rect.get_height()\n",
    "    plt.text(rect.get_x() + rect.get_width()/2.0, height, f\"{height} - {y_pct_}%\", ha = 'center', va = \"bottom\", rotation = 60)\n",
    "\n",
    "ax.set_xticks(x);"
   ]
  },
  {
   "cell_type": "markdown",
   "metadata": {},
   "source": [
    "Vamos a ver los usuarios con más reviews."
   ]
  },
  {
   "cell_type": "code",
   "execution_count": 34,
   "metadata": {
    "ExecuteTime": {
     "end_time": "2021-05-26T18:35:03.565483Z",
     "start_time": "2021-05-26T18:35:03.455106Z"
    }
   },
   "outputs": [
    {
     "data": {
      "text/plain": [
       "48766    10227\n",
       "42635     3747\n",
       "53698     2905\n",
       "57620     2702\n",
       "59643     2633\n",
       "Name: user_id, dtype: int64"
      ]
     },
     "execution_count": 34,
     "metadata": {},
     "output_type": "execute_result"
    }
   ],
   "source": [
    "user_pivot = rating_df[\"user_id\"].value_counts()\n",
    "user_pivot.head()"
   ]
  },
  {
   "cell_type": "code",
   "execution_count": 35,
   "metadata": {
    "ExecuteTime": {
     "end_time": "2021-05-26T18:35:22.807088Z",
     "start_time": "2021-05-26T18:35:22.746984Z"
    }
   },
   "outputs": [
    {
     "data": {
      "text/plain": [
       "True"
      ]
     },
     "execution_count": 35,
     "metadata": {},
     "output_type": "execute_result"
    }
   ],
   "source": [
    "# el usuario 48766 es claramente un usuario \"raro\" tiene más de 10k reviews, pero todos son nulos.\n",
    "rating_df[rating_df[\"user_id\"] == 48766].shape[0] == -rating_df[rating_df[\"user_id\"] == 48766][\"rating\"].sum()"
   ]
  },
  {
   "cell_type": "code",
   "execution_count": 36,
   "metadata": {
    "ExecuteTime": {
     "end_time": "2021-05-26T18:35:24.847542Z",
     "start_time": "2021-05-26T18:35:24.806626Z"
    }
   },
   "outputs": [
    {
     "name": "stdout",
     "output_type": "stream",
     "text": [
      "10227\n",
      "-10227\n"
     ]
    }
   ],
   "source": [
    "print(rating_df[rating_df[\"user_id\"] == 48766].shape[0])\n",
    "print(rating_df[rating_df[\"user_id\"] == 48766][\"rating\"].sum())"
   ]
  },
  {
   "cell_type": "markdown",
   "metadata": {},
   "source": [
    "Vamos a eliminar de nuestro DataFrame a todos aquellos usuarios que han puntuado a todos -1"
   ]
  },
  {
   "cell_type": "code",
   "execution_count": 37,
   "metadata": {
    "ExecuteTime": {
     "end_time": "2021-05-26T18:35:48.409144Z",
     "start_time": "2021-05-26T18:35:45.781836Z"
    }
   },
   "outputs": [],
   "source": [
    "s = rating_df.groupby('user_id')['rating'].apply(set)"
   ]
  },
  {
   "cell_type": "code",
   "execution_count": 38,
   "metadata": {
    "ExecuteTime": {
     "end_time": "2021-05-26T18:35:48.641708Z",
     "start_time": "2021-05-26T18:35:48.613866Z"
    }
   },
   "outputs": [],
   "source": [
    "user_id_no_reviews = s.to_frame()[s.to_frame()[\"rating\"] == {-1}].index"
   ]
  },
  {
   "cell_type": "code",
   "execution_count": 39,
   "metadata": {
    "ExecuteTime": {
     "end_time": "2021-05-26T18:35:50.229915Z",
     "start_time": "2021-05-26T18:35:50.213011Z"
    }
   },
   "outputs": [
    {
     "data": {
      "text/plain": [
       "Int64Index([    4,     6,    13,    49,    54,    89,   133,   151,   157,\n",
       "              188,\n",
       "            ...\n",
       "            73296, 73300, 73335, 73407, 73411, 73418, 73447, 73451, 73467,\n",
       "            73475],\n",
       "           dtype='int64', name='user_id', length=3915)"
      ]
     },
     "execution_count": 39,
     "metadata": {},
     "output_type": "execute_result"
    }
   ],
   "source": [
    "user_id_no_reviews"
   ]
  },
  {
   "cell_type": "code",
   "execution_count": 40,
   "metadata": {
    "ExecuteTime": {
     "end_time": "2021-05-26T18:38:30.689916Z",
     "start_time": "2021-05-26T18:38:30.071597Z"
    }
   },
   "outputs": [],
   "source": [
    "rating_df = rating_df[-rating_df[\"user_id\"].isin(user_id_no_reviews)]"
   ]
  },
  {
   "cell_type": "code",
   "execution_count": 41,
   "metadata": {
    "ExecuteTime": {
     "end_time": "2021-05-26T18:38:32.044832Z",
     "start_time": "2021-05-26T18:38:32.018979Z"
    }
   },
   "outputs": [
    {
     "data": {
      "text/plain": [
       "-1     149\n",
       " 10      4\n",
       "Name: rating, dtype: int64"
      ]
     },
     "execution_count": 41,
     "metadata": {},
     "output_type": "execute_result"
    }
   ],
   "source": [
    "rating_df[rating_df[\"user_id\"] == 1][\"rating\"].value_counts()"
   ]
  },
  {
   "cell_type": "markdown",
   "metadata": {},
   "source": [
    "<a id = \"join\"></a>\n",
    "# Join final animes con ratings de usuarios\n",
    "[Volver al índice](#toc)\n",
    "\n",
    "Una vez que hemos analizado nuestros DataFrames, vamos a hacer un join **por anime_id.**"
   ]
  },
  {
   "cell_type": "code",
   "execution_count": 42,
   "metadata": {
    "ExecuteTime": {
     "end_time": "2021-05-26T18:38:54.348591Z",
     "start_time": "2021-05-26T18:38:53.009269Z"
    }
   },
   "outputs": [],
   "source": [
    "rating_df.rename(columns = {\"rating\":\"user_rating\"}, inplace = True)\n",
    "anime_df.rename(columns = {\"rating\":\"average_rating\"}, inplace = True)\n",
    "df_final = pd.merge(rating_df, anime_df, on = \"anime_id\")"
   ]
  },
  {
   "cell_type": "code",
   "execution_count": 43,
   "metadata": {
    "ExecuteTime": {
     "end_time": "2021-05-26T18:38:54.552385Z",
     "start_time": "2021-05-26T18:38:54.538234Z"
    }
   },
   "outputs": [
    {
     "data": {
      "text/html": [
       "<div>\n",
       "<style scoped>\n",
       "    .dataframe tbody tr th:only-of-type {\n",
       "        vertical-align: middle;\n",
       "    }\n",
       "\n",
       "    .dataframe tbody tr th {\n",
       "        vertical-align: top;\n",
       "    }\n",
       "\n",
       "    .dataframe thead th {\n",
       "        text-align: right;\n",
       "    }\n",
       "</style>\n",
       "<table border=\"1\" class=\"dataframe\">\n",
       "  <thead>\n",
       "    <tr style=\"text-align: right;\">\n",
       "      <th></th>\n",
       "      <th>user_id</th>\n",
       "      <th>anime_id</th>\n",
       "      <th>user_rating</th>\n",
       "      <th>name</th>\n",
       "      <th>genre</th>\n",
       "      <th>type</th>\n",
       "      <th>episodes</th>\n",
       "      <th>average_rating</th>\n",
       "      <th>members</th>\n",
       "      <th>ceil_rating</th>\n",
       "    </tr>\n",
       "  </thead>\n",
       "  <tbody>\n",
       "    <tr>\n",
       "      <th>0</th>\n",
       "      <td>1</td>\n",
       "      <td>20</td>\n",
       "      <td>-1</td>\n",
       "      <td>Naruto</td>\n",
       "      <td>Action, Comedy, Martial Arts, Shounen, Super P...</td>\n",
       "      <td>TV</td>\n",
       "      <td>220.0</td>\n",
       "      <td>7.81</td>\n",
       "      <td>683297</td>\n",
       "      <td>8.0</td>\n",
       "    </tr>\n",
       "    <tr>\n",
       "      <th>1</th>\n",
       "      <td>3</td>\n",
       "      <td>20</td>\n",
       "      <td>8</td>\n",
       "      <td>Naruto</td>\n",
       "      <td>Action, Comedy, Martial Arts, Shounen, Super P...</td>\n",
       "      <td>TV</td>\n",
       "      <td>220.0</td>\n",
       "      <td>7.81</td>\n",
       "      <td>683297</td>\n",
       "      <td>8.0</td>\n",
       "    </tr>\n",
       "    <tr>\n",
       "      <th>2</th>\n",
       "      <td>5</td>\n",
       "      <td>20</td>\n",
       "      <td>6</td>\n",
       "      <td>Naruto</td>\n",
       "      <td>Action, Comedy, Martial Arts, Shounen, Super P...</td>\n",
       "      <td>TV</td>\n",
       "      <td>220.0</td>\n",
       "      <td>7.81</td>\n",
       "      <td>683297</td>\n",
       "      <td>8.0</td>\n",
       "    </tr>\n",
       "    <tr>\n",
       "      <th>3</th>\n",
       "      <td>10</td>\n",
       "      <td>20</td>\n",
       "      <td>-1</td>\n",
       "      <td>Naruto</td>\n",
       "      <td>Action, Comedy, Martial Arts, Shounen, Super P...</td>\n",
       "      <td>TV</td>\n",
       "      <td>220.0</td>\n",
       "      <td>7.81</td>\n",
       "      <td>683297</td>\n",
       "      <td>8.0</td>\n",
       "    </tr>\n",
       "    <tr>\n",
       "      <th>4</th>\n",
       "      <td>21</td>\n",
       "      <td>20</td>\n",
       "      <td>8</td>\n",
       "      <td>Naruto</td>\n",
       "      <td>Action, Comedy, Martial Arts, Shounen, Super P...</td>\n",
       "      <td>TV</td>\n",
       "      <td>220.0</td>\n",
       "      <td>7.81</td>\n",
       "      <td>683297</td>\n",
       "      <td>8.0</td>\n",
       "    </tr>\n",
       "  </tbody>\n",
       "</table>\n",
       "</div>"
      ],
      "text/plain": [
       "   user_id  anime_id  user_rating    name  \\\n",
       "0        1        20           -1  Naruto   \n",
       "1        3        20            8  Naruto   \n",
       "2        5        20            6  Naruto   \n",
       "3       10        20           -1  Naruto   \n",
       "4       21        20            8  Naruto   \n",
       "\n",
       "                                               genre type  episodes  \\\n",
       "0  Action, Comedy, Martial Arts, Shounen, Super P...   TV     220.0   \n",
       "1  Action, Comedy, Martial Arts, Shounen, Super P...   TV     220.0   \n",
       "2  Action, Comedy, Martial Arts, Shounen, Super P...   TV     220.0   \n",
       "3  Action, Comedy, Martial Arts, Shounen, Super P...   TV     220.0   \n",
       "4  Action, Comedy, Martial Arts, Shounen, Super P...   TV     220.0   \n",
       "\n",
       "   average_rating  members  ceil_rating  \n",
       "0            7.81   683297          8.0  \n",
       "1            7.81   683297          8.0  \n",
       "2            7.81   683297          8.0  \n",
       "3            7.81   683297          8.0  \n",
       "4            7.81   683297          8.0  "
      ]
     },
     "execution_count": 43,
     "metadata": {},
     "output_type": "execute_result"
    }
   ],
   "source": [
    "df_final.head()"
   ]
  },
  {
   "cell_type": "code",
   "execution_count": 44,
   "metadata": {
    "ExecuteTime": {
     "end_time": "2021-05-26T18:40:07.783691Z",
     "start_time": "2021-05-26T18:40:07.577377Z"
    }
   },
   "outputs": [],
   "source": [
    "df_final[\"user_rating\"].replace(-1, np.nan, inplace = True)"
   ]
  },
  {
   "cell_type": "markdown",
   "metadata": {},
   "source": [
    "Filtramos sólo por type == TV para tener una dataset más manejable."
   ]
  },
  {
   "cell_type": "code",
   "execution_count": 45,
   "metadata": {
    "ExecuteTime": {
     "end_time": "2021-05-26T18:40:13.172952Z",
     "start_time": "2021-05-26T18:40:12.155939Z"
    }
   },
   "outputs": [],
   "source": [
    "df_final = df_final[df_final[\"type\"] == \"TV\"]"
   ]
  },
  {
   "cell_type": "code",
   "execution_count": 46,
   "metadata": {
    "ExecuteTime": {
     "end_time": "2021-05-26T18:40:28.942080Z",
     "start_time": "2021-05-26T18:40:13.977025Z"
    }
   },
   "outputs": [],
   "source": [
    "df_final = df_final.pivot_table(index = \"user_id\", columns = \"name\", values = \"user_rating\")"
   ]
  },
  {
   "cell_type": "code",
   "execution_count": 47,
   "metadata": {
    "ExecuteTime": {
     "end_time": "2021-05-26T18:40:43.819417Z",
     "start_time": "2021-05-26T18:40:32.731700Z"
    }
   },
   "outputs": [],
   "source": [
    "if VALUE_TO_IMPUTE != \"MEAN\":\n",
    "    df_final.fillna(VALUE_TO_IMPUTE, inplace = True)\n",
    "\n",
    "elif VALUE_TO_IMPUTED == \"MEAN\":\n",
    "    imputer = SimpleImputer(strategy = \"mean\")\n",
    "    X_imputed = imputer.fit_transform(df_final)\n",
    "    df_final = pd.DataFrame(X_imputed, index = df_final.index, columns = df_final.columns)"
   ]
  },
  {
   "cell_type": "code",
   "execution_count": 48,
   "metadata": {
    "ExecuteTime": {
     "end_time": "2021-05-26T18:43:53.454975Z",
     "start_time": "2021-05-26T18:43:53.367402Z"
    }
   },
   "outputs": [
    {
     "data": {
      "text/html": [
       "<div>\n",
       "<style scoped>\n",
       "    .dataframe tbody tr th:only-of-type {\n",
       "        vertical-align: middle;\n",
       "    }\n",
       "\n",
       "    .dataframe tbody tr th {\n",
       "        vertical-align: top;\n",
       "    }\n",
       "\n",
       "    .dataframe thead th {\n",
       "        text-align: right;\n",
       "    }\n",
       "</style>\n",
       "<table border=\"1\" class=\"dataframe\">\n",
       "  <thead>\n",
       "    <tr style=\"text-align: right;\">\n",
       "      <th>name</th>\n",
       "      <th>.hack//Roots</th>\n",
       "      <th>.hack//Sign</th>\n",
       "      <th>.hack//Tasogare no Udewa Densetsu</th>\n",
       "      <th>009-1</th>\n",
       "      <th>07-Ghost</th>\n",
       "      <th>11eyes</th>\n",
       "      <th>12-sai.: Chicchana Mune no Tokimeki</th>\n",
       "      <th>12-sai.: Chicchana Mune no Tokimeki 2nd Season</th>\n",
       "      <th>2020 Nyeon Ujuui Wonder Kiddy</th>\n",
       "      <th>21 Emon</th>\n",
       "      <th>...</th>\n",
       "      <th>Zone of the Enders: Dolores, I</th>\n",
       "      <th>Zukkoke Knight: Don De La Mancha</th>\n",
       "      <th>ef: A Tale of Melodies.</th>\n",
       "      <th>ef: A Tale of Memories.</th>\n",
       "      <th>gdgd Fairies</th>\n",
       "      <th>gdgd Fairies 2</th>\n",
       "      <th>iDOLM@STER Xenoglossia</th>\n",
       "      <th>s.CRY.ed</th>\n",
       "      <th>xxxHOLiC</th>\n",
       "      <th>xxxHOLiC Kei</th>\n",
       "    </tr>\n",
       "    <tr>\n",
       "      <th>user_id</th>\n",
       "      <th></th>\n",
       "      <th></th>\n",
       "      <th></th>\n",
       "      <th></th>\n",
       "      <th></th>\n",
       "      <th></th>\n",
       "      <th></th>\n",
       "      <th></th>\n",
       "      <th></th>\n",
       "      <th></th>\n",
       "      <th></th>\n",
       "      <th></th>\n",
       "      <th></th>\n",
       "      <th></th>\n",
       "      <th></th>\n",
       "      <th></th>\n",
       "      <th></th>\n",
       "      <th></th>\n",
       "      <th></th>\n",
       "      <th></th>\n",
       "      <th></th>\n",
       "    </tr>\n",
       "  </thead>\n",
       "  <tbody>\n",
       "    <tr>\n",
       "      <th>1</th>\n",
       "      <td>-1.0</td>\n",
       "      <td>-1.0</td>\n",
       "      <td>-1.0</td>\n",
       "      <td>-1.0</td>\n",
       "      <td>-1.0</td>\n",
       "      <td>-1.0</td>\n",
       "      <td>-1.0</td>\n",
       "      <td>-1.0</td>\n",
       "      <td>-1.0</td>\n",
       "      <td>-1.0</td>\n",
       "      <td>...</td>\n",
       "      <td>-1.0</td>\n",
       "      <td>-1.0</td>\n",
       "      <td>-1.0</td>\n",
       "      <td>-1.0</td>\n",
       "      <td>-1.0</td>\n",
       "      <td>-1.0</td>\n",
       "      <td>-1.0</td>\n",
       "      <td>-1.0</td>\n",
       "      <td>-1.0</td>\n",
       "      <td>-1.0</td>\n",
       "    </tr>\n",
       "    <tr>\n",
       "      <th>2</th>\n",
       "      <td>-1.0</td>\n",
       "      <td>-1.0</td>\n",
       "      <td>-1.0</td>\n",
       "      <td>-1.0</td>\n",
       "      <td>-1.0</td>\n",
       "      <td>-1.0</td>\n",
       "      <td>-1.0</td>\n",
       "      <td>-1.0</td>\n",
       "      <td>-1.0</td>\n",
       "      <td>-1.0</td>\n",
       "      <td>...</td>\n",
       "      <td>-1.0</td>\n",
       "      <td>-1.0</td>\n",
       "      <td>-1.0</td>\n",
       "      <td>-1.0</td>\n",
       "      <td>-1.0</td>\n",
       "      <td>-1.0</td>\n",
       "      <td>-1.0</td>\n",
       "      <td>-1.0</td>\n",
       "      <td>-1.0</td>\n",
       "      <td>-1.0</td>\n",
       "    </tr>\n",
       "    <tr>\n",
       "      <th>3</th>\n",
       "      <td>-1.0</td>\n",
       "      <td>-1.0</td>\n",
       "      <td>-1.0</td>\n",
       "      <td>-1.0</td>\n",
       "      <td>-1.0</td>\n",
       "      <td>-1.0</td>\n",
       "      <td>-1.0</td>\n",
       "      <td>-1.0</td>\n",
       "      <td>-1.0</td>\n",
       "      <td>-1.0</td>\n",
       "      <td>...</td>\n",
       "      <td>-1.0</td>\n",
       "      <td>-1.0</td>\n",
       "      <td>-1.0</td>\n",
       "      <td>-1.0</td>\n",
       "      <td>-1.0</td>\n",
       "      <td>-1.0</td>\n",
       "      <td>-1.0</td>\n",
       "      <td>-1.0</td>\n",
       "      <td>-1.0</td>\n",
       "      <td>-1.0</td>\n",
       "    </tr>\n",
       "    <tr>\n",
       "      <th>5</th>\n",
       "      <td>-1.0</td>\n",
       "      <td>-1.0</td>\n",
       "      <td>-1.0</td>\n",
       "      <td>-1.0</td>\n",
       "      <td>-1.0</td>\n",
       "      <td>-1.0</td>\n",
       "      <td>-1.0</td>\n",
       "      <td>-1.0</td>\n",
       "      <td>-1.0</td>\n",
       "      <td>-1.0</td>\n",
       "      <td>...</td>\n",
       "      <td>-1.0</td>\n",
       "      <td>-1.0</td>\n",
       "      <td>-1.0</td>\n",
       "      <td>-1.0</td>\n",
       "      <td>-1.0</td>\n",
       "      <td>-1.0</td>\n",
       "      <td>-1.0</td>\n",
       "      <td>-1.0</td>\n",
       "      <td>2.0</td>\n",
       "      <td>-1.0</td>\n",
       "    </tr>\n",
       "    <tr>\n",
       "      <th>7</th>\n",
       "      <td>-1.0</td>\n",
       "      <td>-1.0</td>\n",
       "      <td>-1.0</td>\n",
       "      <td>-1.0</td>\n",
       "      <td>-1.0</td>\n",
       "      <td>-1.0</td>\n",
       "      <td>-1.0</td>\n",
       "      <td>-1.0</td>\n",
       "      <td>-1.0</td>\n",
       "      <td>-1.0</td>\n",
       "      <td>...</td>\n",
       "      <td>-1.0</td>\n",
       "      <td>-1.0</td>\n",
       "      <td>-1.0</td>\n",
       "      <td>-1.0</td>\n",
       "      <td>-1.0</td>\n",
       "      <td>-1.0</td>\n",
       "      <td>-1.0</td>\n",
       "      <td>-1.0</td>\n",
       "      <td>-1.0</td>\n",
       "      <td>-1.0</td>\n",
       "    </tr>\n",
       "  </tbody>\n",
       "</table>\n",
       "<p>5 rows × 3069 columns</p>\n",
       "</div>"
      ],
      "text/plain": [
       "name     .hack//Roots  .hack//Sign  .hack//Tasogare no Udewa Densetsu  009-1  \\\n",
       "user_id                                                                        \n",
       "1                -1.0         -1.0                               -1.0   -1.0   \n",
       "2                -1.0         -1.0                               -1.0   -1.0   \n",
       "3                -1.0         -1.0                               -1.0   -1.0   \n",
       "5                -1.0         -1.0                               -1.0   -1.0   \n",
       "7                -1.0         -1.0                               -1.0   -1.0   \n",
       "\n",
       "name     07-Ghost  11eyes  12-sai.: Chicchana Mune no Tokimeki  \\\n",
       "user_id                                                          \n",
       "1            -1.0    -1.0                                 -1.0   \n",
       "2            -1.0    -1.0                                 -1.0   \n",
       "3            -1.0    -1.0                                 -1.0   \n",
       "5            -1.0    -1.0                                 -1.0   \n",
       "7            -1.0    -1.0                                 -1.0   \n",
       "\n",
       "name     12-sai.: Chicchana Mune no Tokimeki 2nd Season  \\\n",
       "user_id                                                   \n",
       "1                                                  -1.0   \n",
       "2                                                  -1.0   \n",
       "3                                                  -1.0   \n",
       "5                                                  -1.0   \n",
       "7                                                  -1.0   \n",
       "\n",
       "name     2020 Nyeon Ujuui Wonder Kiddy  21 Emon  ...  \\\n",
       "user_id                                          ...   \n",
       "1                                 -1.0     -1.0  ...   \n",
       "2                                 -1.0     -1.0  ...   \n",
       "3                                 -1.0     -1.0  ...   \n",
       "5                                 -1.0     -1.0  ...   \n",
       "7                                 -1.0     -1.0  ...   \n",
       "\n",
       "name     Zone of the Enders: Dolores, I  Zukkoke Knight: Don De La Mancha  \\\n",
       "user_id                                                                     \n",
       "1                                  -1.0                              -1.0   \n",
       "2                                  -1.0                              -1.0   \n",
       "3                                  -1.0                              -1.0   \n",
       "5                                  -1.0                              -1.0   \n",
       "7                                  -1.0                              -1.0   \n",
       "\n",
       "name     ef: A Tale of Melodies.  ef: A Tale of Memories.  gdgd Fairies  \\\n",
       "user_id                                                                   \n",
       "1                           -1.0                     -1.0          -1.0   \n",
       "2                           -1.0                     -1.0          -1.0   \n",
       "3                           -1.0                     -1.0          -1.0   \n",
       "5                           -1.0                     -1.0          -1.0   \n",
       "7                           -1.0                     -1.0          -1.0   \n",
       "\n",
       "name     gdgd Fairies 2  iDOLM@STER Xenoglossia  s.CRY.ed  xxxHOLiC  \\\n",
       "user_id                                                               \n",
       "1                  -1.0                    -1.0      -1.0      -1.0   \n",
       "2                  -1.0                    -1.0      -1.0      -1.0   \n",
       "3                  -1.0                    -1.0      -1.0      -1.0   \n",
       "5                  -1.0                    -1.0      -1.0       2.0   \n",
       "7                  -1.0                    -1.0      -1.0      -1.0   \n",
       "\n",
       "name     xxxHOLiC Kei  \n",
       "user_id                \n",
       "1                -1.0  \n",
       "2                -1.0  \n",
       "3                -1.0  \n",
       "5                -1.0  \n",
       "7                -1.0  \n",
       "\n",
       "[5 rows x 3069 columns]"
      ]
     },
     "execution_count": 48,
     "metadata": {},
     "output_type": "execute_result"
    }
   ],
   "source": [
    "df_final.head()"
   ]
  },
  {
   "cell_type": "code",
   "execution_count": 49,
   "metadata": {
    "ExecuteTime": {
     "end_time": "2021-05-26T18:43:57.643334Z",
     "start_time": "2021-05-26T18:43:57.585301Z"
    }
   },
   "outputs": [
    {
     "data": {
      "text/plain": [
       "(68929, 3069)"
      ]
     },
     "execution_count": 49,
     "metadata": {},
     "output_type": "execute_result"
    }
   ],
   "source": [
    "df_final.shape"
   ]
  },
  {
   "cell_type": "markdown",
   "metadata": {},
   "source": [
    "<a id = \"pca\"></a>\n",
    "# Reducción de la dimensionalidad con PCA\n",
    "[Volver al índice](#toc)\n",
    "\n",
    "El PCA es el método más utilizado de reducción de la dimensionalidad y con una largo desarrollo teórico detrás (fue [inventado en 1901](https://en.wikipedia.org/wiki/Principal_component_analysis) por Karl Pearson.\n",
    "\n",
    "La idea básica detrás del PCA es la proyección de un dataset con **n** dimensiones a otro **m** dimensiones, donde **n > m** , de tal forma que el dataset en el nuevo espacio conserva la máxima cantidad de inforamción (varianza) del espacio original. Por tanto, el nuevo dataset reducido, es una combinación lineal de las **n** dimensiones originales."
   ]
  },
  {
   "cell_type": "markdown",
   "metadata": {},
   "source": [
    "Cuando inicializamos el PCA de sklearn, le tenemos que especificar el número de componentes que queremos que tenga nuestro nuevo dataset. "
   ]
  },
  {
   "cell_type": "code",
   "execution_count": 50,
   "metadata": {
    "ExecuteTime": {
     "end_time": "2021-05-26T19:06:30.323281Z",
     "start_time": "2021-05-26T19:06:14.781457Z"
    }
   },
   "outputs": [
    {
     "name": "stdout",
     "output_type": "stream",
     "text": [
      "Total PCA took 0.26 minutes\n"
     ]
    }
   ],
   "source": [
    "st = time.time()\n",
    "pca = PCA(n_components = 30)\n",
    "pca.fit(df_final)\n",
    "pca_samples = pca.transform(df_final)\n",
    "et = time.time()\n",
    "print(\"Total PCA took {} minutes\".format(round((et - st)/60, 2)))"
   ]
  },
  {
   "cell_type": "code",
   "execution_count": 51,
   "metadata": {
    "ExecuteTime": {
     "end_time": "2021-05-26T19:06:43.636957Z",
     "start_time": "2021-05-26T19:06:43.610218Z"
    }
   },
   "outputs": [
    {
     "data": {
      "text/plain": [
       "array([0.13847638, 0.04037278, 0.02560091, 0.01881841, 0.01816565,\n",
       "       0.01580459, 0.01046155, 0.00933587, 0.00895123, 0.00751564,\n",
       "       0.00689667, 0.00662745, 0.00604303, 0.00558261, 0.00507938,\n",
       "       0.00478798, 0.00462353, 0.00452853, 0.00436525, 0.00429047,\n",
       "       0.00411599, 0.0039468 , 0.00374035, 0.00371077, 0.00363089,\n",
       "       0.003437  , 0.0033808 , 0.00326323, 0.00322871, 0.00316924])"
      ]
     },
     "execution_count": 51,
     "metadata": {},
     "output_type": "execute_result"
    }
   ],
   "source": [
    "pca.explained_variance_ratio_"
   ]
  },
  {
   "cell_type": "code",
   "execution_count": 52,
   "metadata": {
    "ExecuteTime": {
     "end_time": "2021-05-26T19:06:48.653321Z",
     "start_time": "2021-05-26T19:06:47.941926Z"
    }
   },
   "outputs": [
    {
     "data": {
      "image/png": "[encoded data removed]",
      "text/plain": [
       "<Figure size 432x288 with 1 Axes>"
      ]
     },
     "metadata": {
      "needs_background": "light"
     },
     "output_type": "display_data"
    }
   ],
   "source": [
    "plt.plot(np.cumsum(pca.explained_variance_ratio_))\n",
    "plt.xlabel('Nr. PC')\n",
    "plt.ylabel('Cumulative explained variance');"
   ]
  },
  {
   "cell_type": "code",
   "execution_count": 53,
   "metadata": {
    "ExecuteTime": {
     "end_time": "2021-05-26T19:08:16.240619Z",
     "start_time": "2021-05-26T19:08:16.190242Z"
    }
   },
   "outputs": [],
   "source": [
    "pca_df = pd.DataFrame(pca_samples[:, 0:20])"
   ]
  },
  {
   "cell_type": "code",
   "execution_count": 54,
   "metadata": {
    "ExecuteTime": {
     "end_time": "2021-05-26T19:08:37.598876Z",
     "start_time": "2021-05-26T19:08:37.516056Z"
    }
   },
   "outputs": [
    {
     "data": {
      "text/html": [
       "<div>\n",
       "<style scoped>\n",
       "    .dataframe tbody tr th:only-of-type {\n",
       "        vertical-align: middle;\n",
       "    }\n",
       "\n",
       "    .dataframe tbody tr th {\n",
       "        vertical-align: top;\n",
       "    }\n",
       "\n",
       "    .dataframe thead th {\n",
       "        text-align: right;\n",
       "    }\n",
       "</style>\n",
       "<table border=\"1\" class=\"dataframe\">\n",
       "  <thead>\n",
       "    <tr style=\"text-align: right;\">\n",
       "      <th></th>\n",
       "      <th>0</th>\n",
       "      <th>1</th>\n",
       "      <th>2</th>\n",
       "      <th>3</th>\n",
       "      <th>4</th>\n",
       "      <th>5</th>\n",
       "      <th>6</th>\n",
       "      <th>7</th>\n",
       "      <th>8</th>\n",
       "      <th>9</th>\n",
       "      <th>10</th>\n",
       "      <th>11</th>\n",
       "      <th>12</th>\n",
       "      <th>13</th>\n",
       "      <th>14</th>\n",
       "      <th>15</th>\n",
       "      <th>16</th>\n",
       "      <th>17</th>\n",
       "      <th>18</th>\n",
       "      <th>19</th>\n",
       "    </tr>\n",
       "  </thead>\n",
       "  <tbody>\n",
       "    <tr>\n",
       "      <th>0</th>\n",
       "      <td>-18.083291</td>\n",
       "      <td>-6.214738</td>\n",
       "      <td>6.339123</td>\n",
       "      <td>-2.077502</td>\n",
       "      <td>-0.578123</td>\n",
       "      <td>0.440502</td>\n",
       "      <td>2.298677</td>\n",
       "      <td>-0.580972</td>\n",
       "      <td>-1.369056</td>\n",
       "      <td>-2.926693</td>\n",
       "      <td>0.382778</td>\n",
       "      <td>2.429014</td>\n",
       "      <td>-1.099099</td>\n",
       "      <td>-0.438707</td>\n",
       "      <td>1.262024</td>\n",
       "      <td>0.985327</td>\n",
       "      <td>3.820486</td>\n",
       "      <td>4.326928</td>\n",
       "      <td>0.766407</td>\n",
       "      <td>-2.234352</td>\n",
       "    </tr>\n",
       "    <tr>\n",
       "      <th>1</th>\n",
       "      <td>-20.828248</td>\n",
       "      <td>-4.411492</td>\n",
       "      <td>4.206292</td>\n",
       "      <td>1.769552</td>\n",
       "      <td>0.729080</td>\n",
       "      <td>3.984480</td>\n",
       "      <td>2.932308</td>\n",
       "      <td>1.617322</td>\n",
       "      <td>-3.473816</td>\n",
       "      <td>0.519441</td>\n",
       "      <td>-1.216516</td>\n",
       "      <td>1.548558</td>\n",
       "      <td>-0.055083</td>\n",
       "      <td>0.320593</td>\n",
       "      <td>0.175065</td>\n",
       "      <td>-0.780258</td>\n",
       "      <td>-2.163674</td>\n",
       "      <td>1.320645</td>\n",
       "      <td>0.503218</td>\n",
       "      <td>-1.234696</td>\n",
       "    </tr>\n",
       "    <tr>\n",
       "      <th>2</th>\n",
       "      <td>4.463697</td>\n",
       "      <td>-18.506785</td>\n",
       "      <td>-17.698568</td>\n",
       "      <td>-9.951516</td>\n",
       "      <td>-12.938263</td>\n",
       "      <td>0.888886</td>\n",
       "      <td>-1.134562</td>\n",
       "      <td>10.750827</td>\n",
       "      <td>6.427379</td>\n",
       "      <td>2.838668</td>\n",
       "      <td>-2.272933</td>\n",
       "      <td>16.046207</td>\n",
       "      <td>-4.054119</td>\n",
       "      <td>2.817772</td>\n",
       "      <td>-1.675075</td>\n",
       "      <td>-3.287553</td>\n",
       "      <td>3.273385</td>\n",
       "      <td>-2.390054</td>\n",
       "      <td>-4.775008</td>\n",
       "      <td>2.917220</td>\n",
       "    </tr>\n",
       "    <tr>\n",
       "      <th>3</th>\n",
       "      <td>32.001081</td>\n",
       "      <td>-8.481056</td>\n",
       "      <td>1.714674</td>\n",
       "      <td>0.618708</td>\n",
       "      <td>1.182142</td>\n",
       "      <td>15.527690</td>\n",
       "      <td>11.087310</td>\n",
       "      <td>33.256279</td>\n",
       "      <td>8.195834</td>\n",
       "      <td>-7.697439</td>\n",
       "      <td>-7.317681</td>\n",
       "      <td>-1.757967</td>\n",
       "      <td>2.013563</td>\n",
       "      <td>0.748132</td>\n",
       "      <td>-0.106999</td>\n",
       "      <td>-10.673231</td>\n",
       "      <td>-7.754930</td>\n",
       "      <td>9.634626</td>\n",
       "      <td>1.560692</td>\n",
       "      <td>8.128778</td>\n",
       "    </tr>\n",
       "    <tr>\n",
       "      <th>4</th>\n",
       "      <td>39.986673</td>\n",
       "      <td>-16.686275</td>\n",
       "      <td>19.739166</td>\n",
       "      <td>-10.329924</td>\n",
       "      <td>5.570903</td>\n",
       "      <td>17.771579</td>\n",
       "      <td>-11.567047</td>\n",
       "      <td>1.245416</td>\n",
       "      <td>32.004760</td>\n",
       "      <td>11.060269</td>\n",
       "      <td>5.823360</td>\n",
       "      <td>-12.329895</td>\n",
       "      <td>10.393849</td>\n",
       "      <td>4.633539</td>\n",
       "      <td>2.370850</td>\n",
       "      <td>-5.075459</td>\n",
       "      <td>2.262259</td>\n",
       "      <td>17.457671</td>\n",
       "      <td>3.868628</td>\n",
       "      <td>8.250713</td>\n",
       "    </tr>\n",
       "    <tr>\n",
       "      <th>...</th>\n",
       "      <td>...</td>\n",
       "      <td>...</td>\n",
       "      <td>...</td>\n",
       "      <td>...</td>\n",
       "      <td>...</td>\n",
       "      <td>...</td>\n",
       "      <td>...</td>\n",
       "      <td>...</td>\n",
       "      <td>...</td>\n",
       "      <td>...</td>\n",
       "      <td>...</td>\n",
       "      <td>...</td>\n",
       "      <td>...</td>\n",
       "      <td>...</td>\n",
       "      <td>...</td>\n",
       "      <td>...</td>\n",
       "      <td>...</td>\n",
       "      <td>...</td>\n",
       "      <td>...</td>\n",
       "      <td>...</td>\n",
       "    </tr>\n",
       "    <tr>\n",
       "      <th>68924</th>\n",
       "      <td>-15.869116</td>\n",
       "      <td>-0.401760</td>\n",
       "      <td>8.090987</td>\n",
       "      <td>6.259738</td>\n",
       "      <td>-0.484378</td>\n",
       "      <td>0.696390</td>\n",
       "      <td>-3.713212</td>\n",
       "      <td>0.923938</td>\n",
       "      <td>-4.055204</td>\n",
       "      <td>2.221397</td>\n",
       "      <td>-0.657676</td>\n",
       "      <td>-1.370543</td>\n",
       "      <td>-4.349030</td>\n",
       "      <td>-4.480172</td>\n",
       "      <td>0.656606</td>\n",
       "      <td>-4.186009</td>\n",
       "      <td>-3.184194</td>\n",
       "      <td>-1.191972</td>\n",
       "      <td>-7.168210</td>\n",
       "      <td>-5.314114</td>\n",
       "    </tr>\n",
       "    <tr>\n",
       "      <th>68925</th>\n",
       "      <td>-18.796852</td>\n",
       "      <td>1.736515</td>\n",
       "      <td>2.921364</td>\n",
       "      <td>3.062962</td>\n",
       "      <td>0.412888</td>\n",
       "      <td>4.950709</td>\n",
       "      <td>-1.360751</td>\n",
       "      <td>-3.206919</td>\n",
       "      <td>0.781985</td>\n",
       "      <td>-1.676080</td>\n",
       "      <td>1.591843</td>\n",
       "      <td>0.848656</td>\n",
       "      <td>1.590338</td>\n",
       "      <td>-1.579766</td>\n",
       "      <td>1.228295</td>\n",
       "      <td>-1.905425</td>\n",
       "      <td>-0.483287</td>\n",
       "      <td>1.152176</td>\n",
       "      <td>0.922238</td>\n",
       "      <td>0.242492</td>\n",
       "    </tr>\n",
       "    <tr>\n",
       "      <th>68926</th>\n",
       "      <td>-14.924715</td>\n",
       "      <td>5.977005</td>\n",
       "      <td>6.573324</td>\n",
       "      <td>0.173151</td>\n",
       "      <td>5.252500</td>\n",
       "      <td>5.757674</td>\n",
       "      <td>-2.847464</td>\n",
       "      <td>0.205018</td>\n",
       "      <td>-4.684456</td>\n",
       "      <td>-1.955082</td>\n",
       "      <td>0.528389</td>\n",
       "      <td>1.407690</td>\n",
       "      <td>-3.581417</td>\n",
       "      <td>-1.005148</td>\n",
       "      <td>-0.637209</td>\n",
       "      <td>-2.141865</td>\n",
       "      <td>-5.522872</td>\n",
       "      <td>-0.280771</td>\n",
       "      <td>-2.645592</td>\n",
       "      <td>0.224854</td>\n",
       "    </tr>\n",
       "    <tr>\n",
       "      <th>68927</th>\n",
       "      <td>15.948505</td>\n",
       "      <td>28.151414</td>\n",
       "      <td>-14.146338</td>\n",
       "      <td>-21.277459</td>\n",
       "      <td>-1.916959</td>\n",
       "      <td>0.107781</td>\n",
       "      <td>22.120559</td>\n",
       "      <td>-16.829289</td>\n",
       "      <td>-1.000818</td>\n",
       "      <td>-2.737021</td>\n",
       "      <td>5.504742</td>\n",
       "      <td>-4.842691</td>\n",
       "      <td>5.675920</td>\n",
       "      <td>1.063713</td>\n",
       "      <td>-7.682087</td>\n",
       "      <td>0.643921</td>\n",
       "      <td>6.283977</td>\n",
       "      <td>2.906554</td>\n",
       "      <td>2.077452</td>\n",
       "      <td>-7.534552</td>\n",
       "    </tr>\n",
       "    <tr>\n",
       "      <th>68928</th>\n",
       "      <td>-20.296101</td>\n",
       "      <td>-3.385685</td>\n",
       "      <td>4.792052</td>\n",
       "      <td>0.155324</td>\n",
       "      <td>1.618215</td>\n",
       "      <td>3.231429</td>\n",
       "      <td>2.905293</td>\n",
       "      <td>-1.012992</td>\n",
       "      <td>-2.399337</td>\n",
       "      <td>-1.467143</td>\n",
       "      <td>-1.097695</td>\n",
       "      <td>1.310296</td>\n",
       "      <td>1.036560</td>\n",
       "      <td>-1.550180</td>\n",
       "      <td>-0.150149</td>\n",
       "      <td>0.205090</td>\n",
       "      <td>0.149183</td>\n",
       "      <td>1.268159</td>\n",
       "      <td>-0.398512</td>\n",
       "      <td>-1.560776</td>\n",
       "    </tr>\n",
       "  </tbody>\n",
       "</table>\n",
       "<p>68929 rows × 20 columns</p>\n",
       "</div>"
      ],
      "text/plain": [
       "              0          1          2          3          4          5   \\\n",
       "0     -18.083291  -6.214738   6.339123  -2.077502  -0.578123   0.440502   \n",
       "1     -20.828248  -4.411492   4.206292   1.769552   0.729080   3.984480   \n",
       "2       4.463697 -18.506785 -17.698568  -9.951516 -12.938263   0.888886   \n",
       "3      32.001081  -8.481056   1.714674   0.618708   1.182142  15.527690   \n",
       "4      39.986673 -16.686275  19.739166 -10.329924   5.570903  17.771579   \n",
       "...          ...        ...        ...        ...        ...        ...   \n",
       "68924 -15.869116  -0.401760   8.090987   6.259738  -0.484378   0.696390   \n",
       "68925 -18.796852   1.736515   2.921364   3.062962   0.412888   4.950709   \n",
       "68926 -14.924715   5.977005   6.573324   0.173151   5.252500   5.757674   \n",
       "68927  15.948505  28.151414 -14.146338 -21.277459  -1.916959   0.107781   \n",
       "68928 -20.296101  -3.385685   4.792052   0.155324   1.618215   3.231429   \n",
       "\n",
       "              6          7          8          9         10         11  \\\n",
       "0       2.298677  -0.580972  -1.369056  -2.926693  0.382778   2.429014   \n",
       "1       2.932308   1.617322  -3.473816   0.519441 -1.216516   1.548558   \n",
       "2      -1.134562  10.750827   6.427379   2.838668 -2.272933  16.046207   \n",
       "3      11.087310  33.256279   8.195834  -7.697439 -7.317681  -1.757967   \n",
       "4     -11.567047   1.245416  32.004760  11.060269  5.823360 -12.329895   \n",
       "...          ...        ...        ...        ...       ...        ...   \n",
       "68924  -3.713212   0.923938  -4.055204   2.221397 -0.657676  -1.370543   \n",
       "68925  -1.360751  -3.206919   0.781985  -1.676080  1.591843   0.848656   \n",
       "68926  -2.847464   0.205018  -4.684456  -1.955082  0.528389   1.407690   \n",
       "68927  22.120559 -16.829289  -1.000818  -2.737021  5.504742  -4.842691   \n",
       "68928   2.905293  -1.012992  -2.399337  -1.467143 -1.097695   1.310296   \n",
       "\n",
       "              12        13        14         15        16         17  \\\n",
       "0      -1.099099 -0.438707  1.262024   0.985327  3.820486   4.326928   \n",
       "1      -0.055083  0.320593  0.175065  -0.780258 -2.163674   1.320645   \n",
       "2      -4.054119  2.817772 -1.675075  -3.287553  3.273385  -2.390054   \n",
       "3       2.013563  0.748132 -0.106999 -10.673231 -7.754930   9.634626   \n",
       "4      10.393849  4.633539  2.370850  -5.075459  2.262259  17.457671   \n",
       "...          ...       ...       ...        ...       ...        ...   \n",
       "68924  -4.349030 -4.480172  0.656606  -4.186009 -3.184194  -1.191972   \n",
       "68925   1.590338 -1.579766  1.228295  -1.905425 -0.483287   1.152176   \n",
       "68926  -3.581417 -1.005148 -0.637209  -2.141865 -5.522872  -0.280771   \n",
       "68927   5.675920  1.063713 -7.682087   0.643921  6.283977   2.906554   \n",
       "68928   1.036560 -1.550180 -0.150149   0.205090  0.149183   1.268159   \n",
       "\n",
       "             18        19  \n",
       "0      0.766407 -2.234352  \n",
       "1      0.503218 -1.234696  \n",
       "2     -4.775008  2.917220  \n",
       "3      1.560692  8.128778  \n",
       "4      3.868628  8.250713  \n",
       "...         ...       ...  \n",
       "68924 -7.168210 -5.314114  \n",
       "68925  0.922238  0.242492  \n",
       "68926 -2.645592  0.224854  \n",
       "68927  2.077452 -7.534552  \n",
       "68928 -0.398512 -1.560776  \n",
       "\n",
       "[68929 rows x 20 columns]"
      ]
     },
     "execution_count": 54,
     "metadata": {},
     "output_type": "execute_result"
    }
   ],
   "source": [
    "pca_df"
   ]
  },
  {
   "cell_type": "markdown",
   "metadata": {},
   "source": [
    "Como era de esperar, el dataset proyectado, \"pierde\" información al realizar la transformación. "
   ]
  },
  {
   "cell_type": "markdown",
   "metadata": {},
   "source": [
    "Otra forma de inicializar el PCA, es en vez de especificar el número de componentes, decir al PCA cuanta varianza mínima del dataset original debe contener (tiene que ser un número entre 0 - 1).\n",
    "\n",
    "pca = PCA(n_components = 0.3)"
   ]
  },
  {
   "cell_type": "markdown",
   "metadata": {},
   "source": [
    "<a id = \"elbow_curve\"></a>\n",
    "# Elbow curve y KMeans\n",
    "[Volver al índice](#toc)\n",
    "\n",
    "Dado que ahora podemos reducir nuestro dataset. Podemos utilizar el algoritmo KMeans y segmentar a nuestros clientes utilizando el pca_df."
   ]
  },
  {
   "cell_type": "code",
   "execution_count": 55,
   "metadata": {
    "ExecuteTime": {
     "end_time": "2021-05-26T19:18:14.572678Z",
     "start_time": "2021-05-26T19:17:55.333594Z"
    }
   },
   "outputs": [
    {
     "name": "stdout",
     "output_type": "stream",
     "text": [
      "Total Elbow curve took 0.32 minutes\n"
     ]
    }
   ],
   "source": [
    "st = time.time()\n",
    "\n",
    "sse = {}\n",
    "\n",
    "for k in range(1,10):\n",
    "    kmeans = KMeans(n_clusters = k)\n",
    "    kmeans.fit(pca_df)\n",
    "    sse[k] = kmeans.inertia_\n",
    "    \n",
    "et = time.time()\n",
    "print(\"Total Elbow curve took {} minutes\".format(round((et - st)/60, 2)))"
   ]
  },
  {
   "cell_type": "code",
   "execution_count": 56,
   "metadata": {
    "ExecuteTime": {
     "end_time": "2021-05-26T19:18:18.822384Z",
     "start_time": "2021-05-26T19:18:18.590164Z"
    }
   },
   "outputs": [
    {
     "data": {
      "image/png": "[encoded data removed]",
      "text/plain": [
       "<Figure size 1152x576 with 1 Axes>"
      ]
     },
     "metadata": {
      "needs_background": "light"
     },
     "output_type": "display_data"
    }
   ],
   "source": [
    "fig = plt.figure(figsize = (16, 8))\n",
    "ax = fig.add_subplot()\n",
    "\n",
    "x_values = list(sse.keys())\n",
    "y_values = list(sse.values())\n",
    "\n",
    "ax.plot(x_values, y_values, label = \"Inertia/dispersión de los clústers\")\n",
    "ax.set_xticks(np.arange(1, 10))\n",
    "fig.suptitle(\"Variación de la dispersión de los clústers en función de la k\", fontsize = 16);"
   ]
  },
  {
   "cell_type": "code",
   "execution_count": 57,
   "metadata": {
    "ExecuteTime": {
     "end_time": "2021-05-26T19:18:26.661164Z",
     "start_time": "2021-05-26T19:18:25.439968Z"
    }
   },
   "outputs": [],
   "source": [
    "kmeans = KMeans(n_clusters = 4)\n",
    "kmeans.fit(pca_df)\n",
    "pca_df['cluster'] = kmeans.labels_"
   ]
  },
  {
   "cell_type": "code",
   "execution_count": 67,
   "metadata": {
    "ExecuteTime": {
     "end_time": "2021-05-26T19:21:27.302217Z",
     "start_time": "2021-05-26T19:21:27.297555Z"
    }
   },
   "outputs": [
    {
     "data": {
      "text/plain": [
       "(68929, 21)"
      ]
     },
     "execution_count": 67,
     "metadata": {},
     "output_type": "execute_result"
    }
   ],
   "source": [
    "pca_df.shape"
   ]
  },
  {
   "cell_type": "code",
   "execution_count": 58,
   "metadata": {
    "ExecuteTime": {
     "end_time": "2021-05-26T19:18:27.047751Z",
     "start_time": "2021-05-26T19:18:27.036721Z"
    }
   },
   "outputs": [],
   "source": [
    "# sns.pairplot(pca_df, vars = [0, 1, 2], hue = 'cluster');"
   ]
  },
  {
   "cell_type": "code",
   "execution_count": 59,
   "metadata": {
    "ExecuteTime": {
     "end_time": "2021-05-26T19:18:27.455004Z",
     "start_time": "2021-05-26T19:18:27.409817Z"
    }
   },
   "outputs": [],
   "source": [
    "df_final[\"cluster\"] = kmeans.labels_"
   ]
  },
  {
   "cell_type": "markdown",
   "metadata": {},
   "source": [
    "Ahora tenemos, a nuestros clientes **segmentados** y podemos llegar a plantear un recommendador de animes, en base al clúster que pertenece cada persona."
   ]
  },
  {
   "cell_type": "code",
   "execution_count": 60,
   "metadata": {
    "ExecuteTime": {
     "end_time": "2021-05-26T19:18:28.700791Z",
     "start_time": "2021-05-26T19:18:28.642763Z"
    }
   },
   "outputs": [
    {
     "data": {
      "text/plain": [
       "cluster\n",
       "0     8020\n",
       "1    44805\n",
       "2    12244\n",
       "3     3860\n",
       "dtype: int64"
      ]
     },
     "execution_count": 60,
     "metadata": {},
     "output_type": "execute_result"
    }
   ],
   "source": [
    "df_final.groupby(\"cluster\").size()"
   ]
  },
  {
   "cell_type": "code",
   "execution_count": 61,
   "metadata": {
    "ExecuteTime": {
     "end_time": "2021-05-26T19:18:29.120922Z",
     "start_time": "2021-05-26T19:18:29.062868Z"
    }
   },
   "outputs": [],
   "source": [
    "df_final[\"cluster\"] = df_final[\"cluster\"] + 1"
   ]
  },
  {
   "cell_type": "code",
   "execution_count": 62,
   "metadata": {
    "ExecuteTime": {
     "end_time": "2021-05-26T19:18:29.680942Z",
     "start_time": "2021-05-26T19:18:29.558397Z"
    }
   },
   "outputs": [],
   "source": [
    "df_cluster_1 = df_final[df_final[\"cluster\"] == 1]"
   ]
  },
  {
   "cell_type": "code",
   "execution_count": 63,
   "metadata": {
    "ExecuteTime": {
     "end_time": "2021-05-26T19:18:33.473779Z",
     "start_time": "2021-05-26T19:18:32.678713Z"
    }
   },
   "outputs": [],
   "source": [
    "if VALUE_TO_IMPUTE != \"MEAN\":\n",
    "    df_cluster_1.replace([VALUE_TO_IMPUTE], np.nan, inplace = True)\n",
    "\n",
    "elif VALUE_TO_IMPUTED == \"MEAN\":\n",
    "    imputed_values = imputer.statistics_\n",
    "\n",
    "    for col_idx, imputed_value in enumerate(imputed_values):\n",
    "        df_cluster_1.iloc[:,col_idx] = df_cluster_1.iloc[:,col_idx].replace([imputed_value], np.nan)"
   ]
  },
  {
   "cell_type": "code",
   "execution_count": 64,
   "metadata": {
    "ExecuteTime": {
     "end_time": "2021-05-26T19:18:37.375726Z",
     "start_time": "2021-05-26T19:18:34.118873Z"
    }
   },
   "outputs": [],
   "source": [
    "average_score_cluster_1 = df_cluster_1.melt().groupby(\"name\")[\"value\"].mean()"
   ]
  },
  {
   "cell_type": "code",
   "execution_count": 65,
   "metadata": {
    "ExecuteTime": {
     "end_time": "2021-05-26T19:18:37.982585Z",
     "start_time": "2021-05-26T19:18:37.922986Z"
    }
   },
   "outputs": [
    {
     "data": {
      "text/html": [
       "<div>\n",
       "<style scoped>\n",
       "    .dataframe tbody tr th:only-of-type {\n",
       "        vertical-align: middle;\n",
       "    }\n",
       "\n",
       "    .dataframe tbody tr th {\n",
       "        vertical-align: top;\n",
       "    }\n",
       "\n",
       "    .dataframe thead th {\n",
       "        text-align: right;\n",
       "    }\n",
       "</style>\n",
       "<table border=\"1\" class=\"dataframe\">\n",
       "  <thead>\n",
       "    <tr style=\"text-align: right;\">\n",
       "      <th></th>\n",
       "      <th>name</th>\n",
       "      <th>value</th>\n",
       "    </tr>\n",
       "  </thead>\n",
       "  <tbody>\n",
       "    <tr>\n",
       "      <th>2438</th>\n",
       "      <td>Shin Tenchi Muyou!</td>\n",
       "      <td>6.900000</td>\n",
       "    </tr>\n",
       "    <tr>\n",
       "      <th>519</th>\n",
       "      <td>Dash! Kappei</td>\n",
       "      <td>7.289474</td>\n",
       "    </tr>\n",
       "    <tr>\n",
       "      <th>2662</th>\n",
       "      <td>Tenjou Tenge</td>\n",
       "      <td>7.272149</td>\n",
       "    </tr>\n",
       "    <tr>\n",
       "      <th>2935</th>\n",
       "      <td>World Destruction: Sekai Bokumetsu no Rokunin</td>\n",
       "      <td>7.214162</td>\n",
       "    </tr>\n",
       "    <tr>\n",
       "      <th>1417</th>\n",
       "      <td>Konchuu Monogatari Minashigo Hutch (1989)</td>\n",
       "      <td>6.833333</td>\n",
       "    </tr>\n",
       "    <tr>\n",
       "      <th>698</th>\n",
       "      <td>Fushigi Mahou Fun Fun Pharmacy</td>\n",
       "      <td>NaN</td>\n",
       "    </tr>\n",
       "    <tr>\n",
       "      <th>2696</th>\n",
       "      <td>The Law of Ueki</td>\n",
       "      <td>7.937700</td>\n",
       "    </tr>\n",
       "    <tr>\n",
       "      <th>1830</th>\n",
       "      <td>Mujin Wakusei Survive</td>\n",
       "      <td>7.773196</td>\n",
       "    </tr>\n",
       "    <tr>\n",
       "      <th>1730</th>\n",
       "      <td>Mikagura Gakuen Kumikyoku</td>\n",
       "      <td>6.882353</td>\n",
       "    </tr>\n",
       "    <tr>\n",
       "      <th>1162</th>\n",
       "      <td>Isshuukan Friends.</td>\n",
       "      <td>7.376963</td>\n",
       "    </tr>\n",
       "  </tbody>\n",
       "</table>\n",
       "</div>"
      ],
      "text/plain": [
       "                                               name     value\n",
       "2438                             Shin Tenchi Muyou!  6.900000\n",
       "519                                    Dash! Kappei  7.289474\n",
       "2662                                   Tenjou Tenge  7.272149\n",
       "2935  World Destruction: Sekai Bokumetsu no Rokunin  7.214162\n",
       "1417      Konchuu Monogatari Minashigo Hutch (1989)  6.833333\n",
       "698                  Fushigi Mahou Fun Fun Pharmacy       NaN\n",
       "2696                                The Law of Ueki  7.937700\n",
       "1830                          Mujin Wakusei Survive  7.773196\n",
       "1730                      Mikagura Gakuen Kumikyoku  6.882353\n",
       "1162                             Isshuukan Friends.  7.376963"
      ]
     },
     "execution_count": 65,
     "metadata": {},
     "output_type": "execute_result"
    }
   ],
   "source": [
    "average_score_cluster_1.reset_index().sort_values(\"value\", ascending = False).sample(10)"
   ]
  },
  {
   "cell_type": "markdown",
   "metadata": {},
   "source": [
    "<a id = \"colaborative_filtering\"></a>\n",
    "# Calculate similarity between users and animes reviews\n",
    "[Volver al índice](#toc)\n",
    "\n",
    "En la presente sección vamos a calcular la similitud de cosen para 4000 clientes (y los productos que han evaluado)."
   ]
  },
  {
   "cell_type": "code",
   "execution_count": 68,
   "metadata": {
    "ExecuteTime": {
     "end_time": "2021-05-26T19:29:36.394573Z",
     "start_time": "2021-05-26T19:29:36.384273Z"
    }
   },
   "outputs": [],
   "source": [
    "CALCULATE_SIMILARITY = False"
   ]
  },
  {
   "cell_type": "code",
   "execution_count": 69,
   "metadata": {
    "ExecuteTime": {
     "end_time": "2021-05-26T19:29:38.691135Z",
     "start_time": "2021-05-26T19:29:38.469244Z"
    }
   },
   "outputs": [],
   "source": [
    "if CALCULATE_SIMILARITY:\n",
    "\n",
    "    st = time.time()\n",
    "    df_final_norm = df_final.apply(lambda x: (x - np.mean(x))/(np.max(x) - np.min(x)), axis = 1)\n",
    "    et = time.time()\n",
    "    print(\"Normalization took {} minutes\".format(round((et - st)/60, 2)))\n",
    "\n",
    "    df_final_norm = df_final_norm[df_final_norm.index < 3000]\n",
    "    sparse_ratings = sp.sparse.csr_matrix(df_final_norm.values)\n",
    "\n",
    "    st = time.time()\n",
    "    \n",
    "    item_similarity = cosine_similarity(sparse_ratings.T)\n",
    "    item_sim_df = pd.DataFrame(item_similarity, index = df_final_norm.columns, columns = df_final_norm.columns)\n",
    "    item_sim_df.to_pickle(os.path.join(PATH_FOLDER, \"item_similarity.pkl\"))\n",
    "\n",
    "    user_similarity = cosine_similarity(sparse_ratings)\n",
    "    user_sim_df = pd.DataFrame(user_similarity, index = df_final_norm.index, columns = df_final_norm.index)\n",
    "    user_sim_df.to_pickle(os.path.join(PATH_FOLDER, \"user_similarity.pkl\"))\n",
    "    \n",
    "    et = time.time()\n",
    "    print(\"Total time to calculate similarity took {} minutes.\".format(round((et - st)/60, 2)))\n",
    "    \n",
    "else:\n",
    "    user_sim_df = pd.read_pickle(os.path.join(PATH_FOLDER, \"user_similarity.pkl\"))\n",
    "    item_sim_df = pd.read_pickle(os.path.join(PATH_FOLDER, \"item_similarity.pkl\"))"
   ]
  },
  {
   "cell_type": "code",
   "execution_count": 70,
   "metadata": {
    "ExecuteTime": {
     "end_time": "2021-05-26T19:29:40.944093Z",
     "start_time": "2021-05-26T19:29:40.910887Z"
    }
   },
   "outputs": [
    {
     "data": {
      "text/html": [
       "<div>\n",
       "<style scoped>\n",
       "    .dataframe tbody tr th:only-of-type {\n",
       "        vertical-align: middle;\n",
       "    }\n",
       "\n",
       "    .dataframe tbody tr th {\n",
       "        vertical-align: top;\n",
       "    }\n",
       "\n",
       "    .dataframe thead th {\n",
       "        text-align: right;\n",
       "    }\n",
       "</style>\n",
       "<table border=\"1\" class=\"dataframe\">\n",
       "  <thead>\n",
       "    <tr style=\"text-align: right;\">\n",
       "      <th>user_id</th>\n",
       "      <th>1</th>\n",
       "      <th>2</th>\n",
       "      <th>3</th>\n",
       "      <th>5</th>\n",
       "      <th>7</th>\n",
       "      <th>8</th>\n",
       "      <th>9</th>\n",
       "      <th>10</th>\n",
       "      <th>11</th>\n",
       "      <th>12</th>\n",
       "      <th>...</th>\n",
       "      <th>2989</th>\n",
       "      <th>2990</th>\n",
       "      <th>2991</th>\n",
       "      <th>2992</th>\n",
       "      <th>2993</th>\n",
       "      <th>2994</th>\n",
       "      <th>2995</th>\n",
       "      <th>2996</th>\n",
       "      <th>2998</th>\n",
       "      <th>2999</th>\n",
       "    </tr>\n",
       "    <tr>\n",
       "      <th>user_id</th>\n",
       "      <th></th>\n",
       "      <th></th>\n",
       "      <th></th>\n",
       "      <th></th>\n",
       "      <th></th>\n",
       "      <th></th>\n",
       "      <th></th>\n",
       "      <th></th>\n",
       "      <th></th>\n",
       "      <th></th>\n",
       "      <th></th>\n",
       "      <th></th>\n",
       "      <th></th>\n",
       "      <th></th>\n",
       "      <th></th>\n",
       "      <th></th>\n",
       "      <th></th>\n",
       "      <th></th>\n",
       "      <th></th>\n",
       "      <th></th>\n",
       "      <th></th>\n",
       "    </tr>\n",
       "  </thead>\n",
       "  <tbody>\n",
       "    <tr>\n",
       "      <th>1</th>\n",
       "      <td>1.000000</td>\n",
       "      <td>0.071997</td>\n",
       "      <td>0.118973</td>\n",
       "      <td>0.026144</td>\n",
       "      <td>0.091266</td>\n",
       "      <td>0.173605</td>\n",
       "      <td>0.086854</td>\n",
       "      <td>0.310773</td>\n",
       "      <td>0.074135</td>\n",
       "      <td>0.204903</td>\n",
       "      <td>...</td>\n",
       "      <td>0.126388</td>\n",
       "      <td>0.112512</td>\n",
       "      <td>0.233418</td>\n",
       "      <td>0.012758</td>\n",
       "      <td>0.563894</td>\n",
       "      <td>0.243245</td>\n",
       "      <td>0.035002</td>\n",
       "      <td>0.029061</td>\n",
       "      <td>0.206112</td>\n",
       "      <td>0.033992</td>\n",
       "    </tr>\n",
       "    <tr>\n",
       "      <th>2</th>\n",
       "      <td>0.071997</td>\n",
       "      <td>1.000000</td>\n",
       "      <td>0.159733</td>\n",
       "      <td>-0.002448</td>\n",
       "      <td>0.000218</td>\n",
       "      <td>0.048816</td>\n",
       "      <td>0.165617</td>\n",
       "      <td>0.088363</td>\n",
       "      <td>0.016360</td>\n",
       "      <td>0.036078</td>\n",
       "      <td>...</td>\n",
       "      <td>-0.000967</td>\n",
       "      <td>0.030241</td>\n",
       "      <td>0.012882</td>\n",
       "      <td>0.029402</td>\n",
       "      <td>0.091221</td>\n",
       "      <td>0.011785</td>\n",
       "      <td>0.068414</td>\n",
       "      <td>0.057670</td>\n",
       "      <td>0.022579</td>\n",
       "      <td>-0.002185</td>\n",
       "    </tr>\n",
       "    <tr>\n",
       "      <th>3</th>\n",
       "      <td>0.118973</td>\n",
       "      <td>0.159733</td>\n",
       "      <td>1.000000</td>\n",
       "      <td>0.205101</td>\n",
       "      <td>0.167339</td>\n",
       "      <td>0.082544</td>\n",
       "      <td>0.017494</td>\n",
       "      <td>0.235920</td>\n",
       "      <td>0.064306</td>\n",
       "      <td>0.213844</td>\n",
       "      <td>...</td>\n",
       "      <td>0.132316</td>\n",
       "      <td>0.266344</td>\n",
       "      <td>0.187127</td>\n",
       "      <td>0.153465</td>\n",
       "      <td>0.136767</td>\n",
       "      <td>0.158545</td>\n",
       "      <td>0.075768</td>\n",
       "      <td>0.043220</td>\n",
       "      <td>0.102652</td>\n",
       "      <td>0.132512</td>\n",
       "    </tr>\n",
       "    <tr>\n",
       "      <th>5</th>\n",
       "      <td>0.026144</td>\n",
       "      <td>-0.002448</td>\n",
       "      <td>0.205101</td>\n",
       "      <td>1.000000</td>\n",
       "      <td>0.223459</td>\n",
       "      <td>0.041311</td>\n",
       "      <td>0.030371</td>\n",
       "      <td>-0.000845</td>\n",
       "      <td>0.020402</td>\n",
       "      <td>0.073487</td>\n",
       "      <td>...</td>\n",
       "      <td>0.290747</td>\n",
       "      <td>0.078785</td>\n",
       "      <td>0.117237</td>\n",
       "      <td>0.211044</td>\n",
       "      <td>0.047652</td>\n",
       "      <td>0.099944</td>\n",
       "      <td>0.053920</td>\n",
       "      <td>-0.000371</td>\n",
       "      <td>0.066282</td>\n",
       "      <td>0.226312</td>\n",
       "    </tr>\n",
       "    <tr>\n",
       "      <th>7</th>\n",
       "      <td>0.091266</td>\n",
       "      <td>0.000218</td>\n",
       "      <td>0.167339</td>\n",
       "      <td>0.223459</td>\n",
       "      <td>1.000000</td>\n",
       "      <td>0.041271</td>\n",
       "      <td>0.066761</td>\n",
       "      <td>0.063743</td>\n",
       "      <td>0.167512</td>\n",
       "      <td>0.104799</td>\n",
       "      <td>...</td>\n",
       "      <td>0.256462</td>\n",
       "      <td>0.109980</td>\n",
       "      <td>0.224129</td>\n",
       "      <td>0.080985</td>\n",
       "      <td>0.021978</td>\n",
       "      <td>0.211620</td>\n",
       "      <td>0.022099</td>\n",
       "      <td>0.010888</td>\n",
       "      <td>0.109519</td>\n",
       "      <td>0.272671</td>\n",
       "    </tr>\n",
       "  </tbody>\n",
       "</table>\n",
       "<p>5 rows × 2786 columns</p>\n",
       "</div>"
      ],
      "text/plain": [
       "user_id      1         2         3         5         7         8         9     \\\n",
       "user_id                                                                         \n",
       "1        1.000000  0.071997  0.118973  0.026144  0.091266  0.173605  0.086854   \n",
       "2        0.071997  1.000000  0.159733 -0.002448  0.000218  0.048816  0.165617   \n",
       "3        0.118973  0.159733  1.000000  0.205101  0.167339  0.082544  0.017494   \n",
       "5        0.026144 -0.002448  0.205101  1.000000  0.223459  0.041311  0.030371   \n",
       "7        0.091266  0.000218  0.167339  0.223459  1.000000  0.041271  0.066761   \n",
       "\n",
       "user_id      10        11        12    ...      2989      2990      2991  \\\n",
       "user_id                                ...                                 \n",
       "1        0.310773  0.074135  0.204903  ...  0.126388  0.112512  0.233418   \n",
       "2        0.088363  0.016360  0.036078  ... -0.000967  0.030241  0.012882   \n",
       "3        0.235920  0.064306  0.213844  ...  0.132316  0.266344  0.187127   \n",
       "5       -0.000845  0.020402  0.073487  ...  0.290747  0.078785  0.117237   \n",
       "7        0.063743  0.167512  0.104799  ...  0.256462  0.109980  0.224129   \n",
       "\n",
       "user_id      2992      2993      2994      2995      2996      2998      2999  \n",
       "user_id                                                                        \n",
       "1        0.012758  0.563894  0.243245  0.035002  0.029061  0.206112  0.033992  \n",
       "2        0.029402  0.091221  0.011785  0.068414  0.057670  0.022579 -0.002185  \n",
       "3        0.153465  0.136767  0.158545  0.075768  0.043220  0.102652  0.132512  \n",
       "5        0.211044  0.047652  0.099944  0.053920 -0.000371  0.066282  0.226312  \n",
       "7        0.080985  0.021978  0.211620  0.022099  0.010888  0.109519  0.272671  \n",
       "\n",
       "[5 rows x 2786 columns]"
      ]
     },
     "execution_count": 70,
     "metadata": {},
     "output_type": "execute_result"
    }
   ],
   "source": [
    "user_sim_df.head()"
   ]
  },
  {
   "cell_type": "code",
   "execution_count": 71,
   "metadata": {
    "ExecuteTime": {
     "end_time": "2021-05-26T19:30:00.755463Z",
     "start_time": "2021-05-26T19:30:00.693794Z"
    }
   },
   "outputs": [
    {
     "data": {
      "text/html": [
       "<div>\n",
       "<style scoped>\n",
       "    .dataframe tbody tr th:only-of-type {\n",
       "        vertical-align: middle;\n",
       "    }\n",
       "\n",
       "    .dataframe tbody tr th {\n",
       "        vertical-align: top;\n",
       "    }\n",
       "\n",
       "    .dataframe thead th {\n",
       "        text-align: right;\n",
       "    }\n",
       "</style>\n",
       "<table border=\"1\" class=\"dataframe\">\n",
       "  <thead>\n",
       "    <tr style=\"text-align: right;\">\n",
       "      <th>name</th>\n",
       "      <th>.hack//Roots</th>\n",
       "      <th>.hack//Sign</th>\n",
       "      <th>.hack//Tasogare no Udewa Densetsu</th>\n",
       "      <th>009-1</th>\n",
       "      <th>07-Ghost</th>\n",
       "      <th>11eyes</th>\n",
       "      <th>12-sai.: Chicchana Mune no Tokimeki</th>\n",
       "      <th>12-sai.: Chicchana Mune no Tokimeki 2nd Season</th>\n",
       "      <th>2020 Nyeon Ujuui Wonder Kiddy</th>\n",
       "      <th>21 Emon</th>\n",
       "      <th>...</th>\n",
       "      <th>Zukkoke Knight: Don De La Mancha</th>\n",
       "      <th>ef: A Tale of Melodies.</th>\n",
       "      <th>ef: A Tale of Memories.</th>\n",
       "      <th>gdgd Fairies</th>\n",
       "      <th>gdgd Fairies 2</th>\n",
       "      <th>iDOLM@STER Xenoglossia</th>\n",
       "      <th>s.CRY.ed</th>\n",
       "      <th>xxxHOLiC</th>\n",
       "      <th>xxxHOLiC Kei</th>\n",
       "      <th>cluster</th>\n",
       "    </tr>\n",
       "    <tr>\n",
       "      <th>name</th>\n",
       "      <th></th>\n",
       "      <th></th>\n",
       "      <th></th>\n",
       "      <th></th>\n",
       "      <th></th>\n",
       "      <th></th>\n",
       "      <th></th>\n",
       "      <th></th>\n",
       "      <th></th>\n",
       "      <th></th>\n",
       "      <th></th>\n",
       "      <th></th>\n",
       "      <th></th>\n",
       "      <th></th>\n",
       "      <th></th>\n",
       "      <th></th>\n",
       "      <th></th>\n",
       "      <th></th>\n",
       "      <th></th>\n",
       "      <th></th>\n",
       "      <th></th>\n",
       "    </tr>\n",
       "  </thead>\n",
       "  <tbody>\n",
       "    <tr>\n",
       "      <th>.hack//Roots</th>\n",
       "      <td>1.000000</td>\n",
       "      <td>0.442324</td>\n",
       "      <td>0.440980</td>\n",
       "      <td>0.104414</td>\n",
       "      <td>0.087965</td>\n",
       "      <td>0.007051</td>\n",
       "      <td>0.030441</td>\n",
       "      <td>0.090422</td>\n",
       "      <td>0.090422</td>\n",
       "      <td>0.090422</td>\n",
       "      <td>...</td>\n",
       "      <td>0.077017</td>\n",
       "      <td>0.001985</td>\n",
       "      <td>-0.015837</td>\n",
       "      <td>0.045708</td>\n",
       "      <td>0.040830</td>\n",
       "      <td>0.097794</td>\n",
       "      <td>0.113534</td>\n",
       "      <td>0.024068</td>\n",
       "      <td>0.031904</td>\n",
       "      <td>-0.017076</td>\n",
       "    </tr>\n",
       "    <tr>\n",
       "      <th>.hack//Sign</th>\n",
       "      <td>0.442324</td>\n",
       "      <td>1.000000</td>\n",
       "      <td>0.425673</td>\n",
       "      <td>0.020537</td>\n",
       "      <td>0.082174</td>\n",
       "      <td>-0.011737</td>\n",
       "      <td>-0.040223</td>\n",
       "      <td>-0.023905</td>\n",
       "      <td>-0.023905</td>\n",
       "      <td>-0.023905</td>\n",
       "      <td>...</td>\n",
       "      <td>-0.027956</td>\n",
       "      <td>0.039654</td>\n",
       "      <td>0.002731</td>\n",
       "      <td>-0.038753</td>\n",
       "      <td>-0.036409</td>\n",
       "      <td>0.015845</td>\n",
       "      <td>0.137711</td>\n",
       "      <td>0.019568</td>\n",
       "      <td>0.007606</td>\n",
       "      <td>0.015860</td>\n",
       "    </tr>\n",
       "    <tr>\n",
       "      <th>.hack//Tasogare no Udewa Densetsu</th>\n",
       "      <td>0.440980</td>\n",
       "      <td>0.425673</td>\n",
       "      <td>1.000000</td>\n",
       "      <td>0.134897</td>\n",
       "      <td>0.015741</td>\n",
       "      <td>0.008185</td>\n",
       "      <td>0.050544</td>\n",
       "      <td>0.127777</td>\n",
       "      <td>0.127777</td>\n",
       "      <td>0.127777</td>\n",
       "      <td>...</td>\n",
       "      <td>0.110611</td>\n",
       "      <td>0.016785</td>\n",
       "      <td>-0.030241</td>\n",
       "      <td>0.070830</td>\n",
       "      <td>0.063690</td>\n",
       "      <td>0.121471</td>\n",
       "      <td>0.008062</td>\n",
       "      <td>0.019512</td>\n",
       "      <td>0.029131</td>\n",
       "      <td>-0.067895</td>\n",
       "    </tr>\n",
       "    <tr>\n",
       "      <th>009-1</th>\n",
       "      <td>0.104414</td>\n",
       "      <td>0.020537</td>\n",
       "      <td>0.134897</td>\n",
       "      <td>1.000000</td>\n",
       "      <td>-0.099584</td>\n",
       "      <td>-0.156747</td>\n",
       "      <td>0.352694</td>\n",
       "      <td>0.629252</td>\n",
       "      <td>0.629252</td>\n",
       "      <td>0.629252</td>\n",
       "      <td>...</td>\n",
       "      <td>0.569214</td>\n",
       "      <td>-0.088651</td>\n",
       "      <td>-0.158101</td>\n",
       "      <td>0.434835</td>\n",
       "      <td>0.396272</td>\n",
       "      <td>0.386138</td>\n",
       "      <td>0.057619</td>\n",
       "      <td>-0.056510</td>\n",
       "      <td>0.008492</td>\n",
       "      <td>-0.264992</td>\n",
       "    </tr>\n",
       "    <tr>\n",
       "      <th>07-Ghost</th>\n",
       "      <td>0.087965</td>\n",
       "      <td>0.082174</td>\n",
       "      <td>0.015741</td>\n",
       "      <td>-0.099584</td>\n",
       "      <td>1.000000</td>\n",
       "      <td>0.217292</td>\n",
       "      <td>-0.105674</td>\n",
       "      <td>-0.177099</td>\n",
       "      <td>-0.177099</td>\n",
       "      <td>-0.177099</td>\n",
       "      <td>...</td>\n",
       "      <td>-0.169298</td>\n",
       "      <td>0.044636</td>\n",
       "      <td>0.060060</td>\n",
       "      <td>-0.121715</td>\n",
       "      <td>-0.112284</td>\n",
       "      <td>-0.058300</td>\n",
       "      <td>-0.014972</td>\n",
       "      <td>0.043705</td>\n",
       "      <td>0.030374</td>\n",
       "      <td>0.106617</td>\n",
       "    </tr>\n",
       "  </tbody>\n",
       "</table>\n",
       "<p>5 rows × 3070 columns</p>\n",
       "</div>"
      ],
      "text/plain": [
       "name                               .hack//Roots  .hack//Sign  \\\n",
       "name                                                           \n",
       ".hack//Roots                           1.000000     0.442324   \n",
       ".hack//Sign                            0.442324     1.000000   \n",
       ".hack//Tasogare no Udewa Densetsu      0.440980     0.425673   \n",
       "009-1                                  0.104414     0.020537   \n",
       "07-Ghost                               0.087965     0.082174   \n",
       "\n",
       "name                               .hack//Tasogare no Udewa Densetsu  \\\n",
       "name                                                                   \n",
       ".hack//Roots                                                0.440980   \n",
       ".hack//Sign                                                 0.425673   \n",
       ".hack//Tasogare no Udewa Densetsu                           1.000000   \n",
       "009-1                                                       0.134897   \n",
       "07-Ghost                                                    0.015741   \n",
       "\n",
       "name                                  009-1  07-Ghost    11eyes  \\\n",
       "name                                                              \n",
       ".hack//Roots                       0.104414  0.087965  0.007051   \n",
       ".hack//Sign                        0.020537  0.082174 -0.011737   \n",
       ".hack//Tasogare no Udewa Densetsu  0.134897  0.015741  0.008185   \n",
       "009-1                              1.000000 -0.099584 -0.156747   \n",
       "07-Ghost                          -0.099584  1.000000  0.217292   \n",
       "\n",
       "name                               12-sai.: Chicchana Mune no Tokimeki  \\\n",
       "name                                                                     \n",
       ".hack//Roots                                                  0.030441   \n",
       ".hack//Sign                                                  -0.040223   \n",
       ".hack//Tasogare no Udewa Densetsu                             0.050544   \n",
       "009-1                                                         0.352694   \n",
       "07-Ghost                                                     -0.105674   \n",
       "\n",
       "name                               12-sai.: Chicchana Mune no Tokimeki 2nd Season  \\\n",
       "name                                                                                \n",
       ".hack//Roots                                                             0.090422   \n",
       ".hack//Sign                                                             -0.023905   \n",
       ".hack//Tasogare no Udewa Densetsu                                        0.127777   \n",
       "009-1                                                                    0.629252   \n",
       "07-Ghost                                                                -0.177099   \n",
       "\n",
       "name                               2020 Nyeon Ujuui Wonder Kiddy   21 Emon  \\\n",
       "name                                                                         \n",
       ".hack//Roots                                            0.090422  0.090422   \n",
       ".hack//Sign                                            -0.023905 -0.023905   \n",
       ".hack//Tasogare no Udewa Densetsu                       0.127777  0.127777   \n",
       "009-1                                                   0.629252  0.629252   \n",
       "07-Ghost                                               -0.177099 -0.177099   \n",
       "\n",
       "name                               ...  Zukkoke Knight: Don De La Mancha  \\\n",
       "name                               ...                                     \n",
       ".hack//Roots                       ...                          0.077017   \n",
       ".hack//Sign                        ...                         -0.027956   \n",
       ".hack//Tasogare no Udewa Densetsu  ...                          0.110611   \n",
       "009-1                              ...                          0.569214   \n",
       "07-Ghost                           ...                         -0.169298   \n",
       "\n",
       "name                               ef: A Tale of Melodies.  \\\n",
       "name                                                         \n",
       ".hack//Roots                                      0.001985   \n",
       ".hack//Sign                                       0.039654   \n",
       ".hack//Tasogare no Udewa Densetsu                 0.016785   \n",
       "009-1                                            -0.088651   \n",
       "07-Ghost                                          0.044636   \n",
       "\n",
       "name                               ef: A Tale of Memories.  gdgd Fairies  \\\n",
       "name                                                                       \n",
       ".hack//Roots                                     -0.015837      0.045708   \n",
       ".hack//Sign                                       0.002731     -0.038753   \n",
       ".hack//Tasogare no Udewa Densetsu                -0.030241      0.070830   \n",
       "009-1                                            -0.158101      0.434835   \n",
       "07-Ghost                                          0.060060     -0.121715   \n",
       "\n",
       "name                               gdgd Fairies 2  iDOLM@STER Xenoglossia  \\\n",
       "name                                                                        \n",
       ".hack//Roots                             0.040830                0.097794   \n",
       ".hack//Sign                             -0.036409                0.015845   \n",
       ".hack//Tasogare no Udewa Densetsu        0.063690                0.121471   \n",
       "009-1                                    0.396272                0.386138   \n",
       "07-Ghost                                -0.112284               -0.058300   \n",
       "\n",
       "name                               s.CRY.ed  xxxHOLiC  xxxHOLiC Kei   cluster  \n",
       "name                                                                           \n",
       ".hack//Roots                       0.113534  0.024068      0.031904 -0.017076  \n",
       ".hack//Sign                        0.137711  0.019568      0.007606  0.015860  \n",
       ".hack//Tasogare no Udewa Densetsu  0.008062  0.019512      0.029131 -0.067895  \n",
       "009-1                              0.057619 -0.056510      0.008492 -0.264992  \n",
       "07-Ghost                          -0.014972  0.043705      0.030374  0.106617  \n",
       "\n",
       "[5 rows x 3070 columns]"
      ]
     },
     "execution_count": 71,
     "metadata": {},
     "output_type": "execute_result"
    }
   ],
   "source": [
    "item_sim_df.head()"
   ]
  },
  {
   "cell_type": "markdown",
   "metadata": {},
   "source": [
    "<a id = \"recomendacion_usuarios\"></a>\n",
    "# Recomendación \"user based\"\n",
    "[Volver al índice](#toc)"
   ]
  },
  {
   "cell_type": "code",
   "execution_count": 72,
   "metadata": {
    "ExecuteTime": {
     "end_time": "2021-05-26T19:31:16.200521Z",
     "start_time": "2021-05-26T19:31:16.149497Z"
    }
   },
   "outputs": [],
   "source": [
    "def top_users(user, df):\n",
    "    '''\n",
    "    This function prints the top 10 similar users based on cosine similarity.\n",
    "    '''\n",
    "    \n",
    "    if user not in df.columns:\n",
    "        return('No data available on user {}'.format(user))\n",
    "    \n",
    "    print('Most Similar Users:\\n')\n",
    "    \n",
    "    sim_users = df.sort_values(by = user, ascending=False).index[1:11]\n",
    "    sim_values = df.sort_values(by = user, ascending=False).loc[:,user].tolist()[1:11]\n",
    "    \n",
    "    for user, sim in zip(sim_users, sim_values):\n",
    "        print('User #{0}, Similarity value: {1:.2f}'.format(user, sim)) "
   ]
  },
  {
   "cell_type": "code",
   "execution_count": 73,
   "metadata": {
    "ExecuteTime": {
     "end_time": "2021-05-26T19:31:19.138025Z",
     "start_time": "2021-05-26T19:31:19.129901Z"
    }
   },
   "outputs": [],
   "source": [
    "def compare_2_users(user1, user2, df, nr_animes):\n",
    "    '''\n",
    "    Returns a DataFrame with top 10 animes by 2 similar users (based on cosine similarity).\n",
    "    '''\n",
    "\n",
    "    top_10_user_1 = df[df.index == user1].melt().sort_values(\"value\", ascending = False)[:nr_animes]\n",
    "    top_10_user_1.columns = [\"name_user_{}\".format(user1), \"rating_user_{}\".format(user1)]\n",
    "    top_10_user_1 = top_10_user_1.reset_index(drop = True)\n",
    "\n",
    "    top_10_user_2 = df[df.index == user2].melt().sort_values(\"value\", ascending = False)[:nr_animes]\n",
    "    top_10_user_2.columns = [\"name_user_{}\".format(user2), \"rating_user_{}\".format(user2)]\n",
    "    top_10_user_2 = top_10_user_2.reset_index(drop = True)\n",
    "\n",
    "    combined_2_users = pd.concat([top_10_user_1, top_10_user_2], axis = 1, join = \"inner\")\n",
    "    \n",
    "    return combined_2_users"
   ]
  },
  {
   "cell_type": "code",
   "execution_count": 74,
   "metadata": {
    "ExecuteTime": {
     "end_time": "2021-05-26T19:31:23.543936Z",
     "start_time": "2021-05-26T19:31:23.467286Z"
    }
   },
   "outputs": [
    {
     "name": "stdout",
     "output_type": "stream",
     "text": [
      "Most Similar Users:\n",
      "\n",
      "User #2390, Similarity value: 0.37\n",
      "User #586, Similarity value: 0.34\n",
      "User #59, Similarity value: 0.34\n",
      "User #1022, Similarity value: 0.34\n",
      "User #2241, Similarity value: 0.27\n",
      "User #136, Similarity value: 0.27\n",
      "User #464, Similarity value: 0.25\n",
      "User #2672, Similarity value: 0.25\n",
      "User #1707, Similarity value: 0.25\n",
      "User #1804, Similarity value: 0.25\n"
     ]
    },
    {
     "data": {
      "text/html": [
       "<div>\n",
       "<style scoped>\n",
       "    .dataframe tbody tr th:only-of-type {\n",
       "        vertical-align: middle;\n",
       "    }\n",
       "\n",
       "    .dataframe tbody tr th {\n",
       "        vertical-align: top;\n",
       "    }\n",
       "\n",
       "    .dataframe thead th {\n",
       "        text-align: right;\n",
       "    }\n",
       "</style>\n",
       "<table border=\"1\" class=\"dataframe\">\n",
       "  <thead>\n",
       "    <tr style=\"text-align: right;\">\n",
       "      <th></th>\n",
       "      <th>name_user_20</th>\n",
       "      <th>rating_user_20</th>\n",
       "      <th>name_user_2390</th>\n",
       "      <th>rating_user_2390</th>\n",
       "    </tr>\n",
       "  </thead>\n",
       "  <tbody>\n",
       "    <tr>\n",
       "      <th>0</th>\n",
       "      <td>InuYasha</td>\n",
       "      <td>10.0</td>\n",
       "      <td>InuYasha</td>\n",
       "      <td>10.0</td>\n",
       "    </tr>\n",
       "    <tr>\n",
       "      <th>1</th>\n",
       "      <td>Seikon no Qwaser</td>\n",
       "      <td>10.0</td>\n",
       "      <td>Ouran Koukou Host Club</td>\n",
       "      <td>10.0</td>\n",
       "    </tr>\n",
       "    <tr>\n",
       "      <th>2</th>\n",
       "      <td>Seikon no Qwaser II</td>\n",
       "      <td>10.0</td>\n",
       "      <td>Kimi ni Todoke</td>\n",
       "      <td>8.0</td>\n",
       "    </tr>\n",
       "    <tr>\n",
       "      <th>3</th>\n",
       "      <td>Ouran Koukou Host Club</td>\n",
       "      <td>10.0</td>\n",
       "      <td>Fruits Basket</td>\n",
       "      <td>6.0</td>\n",
       "    </tr>\n",
       "    <tr>\n",
       "      <th>4</th>\n",
       "      <td>K-On!</td>\n",
       "      <td>10.0</td>\n",
       "      <td>Vampire Knight</td>\n",
       "      <td>5.0</td>\n",
       "    </tr>\n",
       "    <tr>\n",
       "      <th>5</th>\n",
       "      <td>Mirai Nikki (TV)</td>\n",
       "      <td>10.0</td>\n",
       "      <td>cluster</td>\n",
       "      <td>2.0</td>\n",
       "    </tr>\n",
       "    <tr>\n",
       "      <th>6</th>\n",
       "      <td>Kämpfer</td>\n",
       "      <td>10.0</td>\n",
       "      <td>Lupin III: Part II</td>\n",
       "      <td>-1.0</td>\n",
       "    </tr>\n",
       "    <tr>\n",
       "      <th>7</th>\n",
       "      <td>Gravitation</td>\n",
       "      <td>9.0</td>\n",
       "      <td>Overman King Gainer</td>\n",
       "      <td>-1.0</td>\n",
       "    </tr>\n",
       "    <tr>\n",
       "      <th>8</th>\n",
       "      <td>11eyes</td>\n",
       "      <td>9.0</td>\n",
       "      <td>Otome wa Boku ni Koishiteru</td>\n",
       "      <td>-1.0</td>\n",
       "    </tr>\n",
       "    <tr>\n",
       "      <th>9</th>\n",
       "      <td>Maburaho</td>\n",
       "      <td>8.0</td>\n",
       "      <td>Ou Dorobou Jing</td>\n",
       "      <td>-1.0</td>\n",
       "    </tr>\n",
       "  </tbody>\n",
       "</table>\n",
       "</div>"
      ],
      "text/plain": [
       "             name_user_20  rating_user_20               name_user_2390  \\\n",
       "0                InuYasha            10.0                     InuYasha   \n",
       "1        Seikon no Qwaser            10.0       Ouran Koukou Host Club   \n",
       "2     Seikon no Qwaser II            10.0               Kimi ni Todoke   \n",
       "3  Ouran Koukou Host Club            10.0                Fruits Basket   \n",
       "4                   K-On!            10.0               Vampire Knight   \n",
       "5        Mirai Nikki (TV)            10.0                      cluster   \n",
       "6                 Kämpfer            10.0           Lupin III: Part II   \n",
       "7             Gravitation             9.0          Overman King Gainer   \n",
       "8                  11eyes             9.0  Otome wa Boku ni Koishiteru   \n",
       "9                Maburaho             8.0              Ou Dorobou Jing   \n",
       "\n",
       "   rating_user_2390  \n",
       "0              10.0  \n",
       "1              10.0  \n",
       "2               8.0  \n",
       "3               6.0  \n",
       "4               5.0  \n",
       "5               2.0  \n",
       "6              -1.0  \n",
       "7              -1.0  \n",
       "8              -1.0  \n",
       "9              -1.0  "
      ]
     },
     "execution_count": 74,
     "metadata": {},
     "output_type": "execute_result"
    }
   ],
   "source": [
    "user1 = 20\n",
    "\n",
    "user2 = 2390\n",
    "\n",
    "top_users(user1, user_sim_df)\n",
    "\n",
    "combined_2_users = compare_2_users(user1, user2, df_final, 10)\n",
    "combined_2_users"
   ]
  },
  {
   "cell_type": "markdown",
   "metadata": {},
   "source": [
    "<a id = \"recomendacion_animes\"></a>\n",
    "# Recomendación \"product based\"\n",
    "[Volver al índice](#toc)"
   ]
  },
  {
   "cell_type": "code",
   "execution_count": 75,
   "metadata": {
    "ExecuteTime": {
     "end_time": "2021-05-26T19:32:07.224931Z",
     "start_time": "2021-05-26T19:32:07.171537Z"
    }
   },
   "outputs": [],
   "source": [
    "def top_animes(name, df):\n",
    "    '''\n",
    "    This functions prints top 10 similar animes, based on the reviews of the users.\n",
    "    '''\n",
    "    print('Similar shows to {} include:\\n'.format(name))\n",
    "    \n",
    "    index = item_sim_df[name].sort_values(ascending = False).index[1:11]\n",
    "    values = item_sim_df[name].sort_values(ascending = False).values[1:11]\n",
    "\n",
    "    for i, (index_, values_) in enumerate(zip(index, values)):\n",
    "        print('No. {}: {} ({})'.format(i + 1, index_, round(values_, 3)))"
   ]
  },
  {
   "cell_type": "code",
   "execution_count": null,
   "metadata": {},
   "outputs": [],
   "source": [
    "top_animes(\"07-Ghost\", item_sim_df)"
   ]
  },
  {
   "cell_type": "markdown",
   "metadata": {},
   "source": [
    "<a id = \"conclusión\"></a>\n",
    "# Conclusión\n",
    "[Volver al índice](#toc)\n",
    "\n",
    "En el presente Notebook hemos explorado algunas de las técnicas más comunes que se utilizan en el unsupervised learning como: **PCA, KMeans.**\n",
    "\n",
    "Posteriormente, hemos utilizado la métrica de **\"cosine similarity\"** para crear dos modelos de colaborative filtering: **user and product based.**\n",
    "\n",
    "Hemos podido comprobar como las técnias de UL son muy útiles y se pueden utilizar en infinidad de campos desde: **visualiación de datos, creación de nuevas variables (los componentes princiaples), reducir la dimensionalidad para agiliar el aprendizaje entre otros.**"
   ]
  }
 ],
 "metadata": {
  "kernelspec": {
   "display_name": "Python 3",
   "language": "python",
   "name": "python3"
  },
  "language_info": {
   "codemirror_mode": {
    "name": "ipython",
    "version": 3
   },
   "file_extension": ".py",
   "mimetype": "text/x-python",
   "name": "python",
   "nbconvert_exporter": "python",
   "pygments_lexer": "ipython3",
   "version": "3.8.5"
  },
  "latex_envs": {
   "LaTeX_envs_menu_present": true,
   "autoclose": false,
   "autocomplete": true,
   "bibliofile": "biblio.bib",
   "cite_by": "apalike",
   "current_citInitial": 1,
   "eqLabelWithNumbers": true,
   "eqNumInitial": 1,
   "hotkeys": {
    "equation": "Ctrl-E",
    "itemize": "Ctrl-I"
   },
   "labels_anchors": false,
   "latex_user_defs": false,
   "report_style_numbering": false,
   "user_envs_cfg": false
  },
  "toc": {
   "base_numbering": 1,
   "nav_menu": {},
   "number_sections": true,
   "sideBar": true,
   "skip_h1_title": false,
   "title_cell": "Table of Contents",
   "title_sidebar": "Contents",
   "toc_cell": false,
   "toc_position": {},
   "toc_section_display": true,
   "toc_window_display": false
  },
  "varInspector": {
   "cols": {
    "lenName": 16,
    "lenType": 16,
    "lenVar": 40
   },
   "kernels_config": {
    "python": {
     "delete_cmd_postfix": "",
     "delete_cmd_prefix": "del ",
     "library": "var_list.py",
     "varRefreshCmd": "print(var_dic_list())"
    },
    "r": {
     "delete_cmd_postfix": ") ",
     "delete_cmd_prefix": "rm(",
     "library": "var_list.r",
     "varRefreshCmd": "cat(var_dic_list()) "
    }
   },
   "types_to_exclude": [
    "module",
    "function",
    "builtin_function_or_method",
    "instance",
    "_Feature"
   ],
   "window_display": true
  }
 },
 "nbformat": 4,
 "nbformat_minor": 4
}
